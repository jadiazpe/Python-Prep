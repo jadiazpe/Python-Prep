{
 "cells": [
  {
   "attachments": {},
   "cell_type": "markdown",
   "metadata": {},
   "source": [
    "## Clases y Programación Orientada a Objetos"
   ]
  },
  {
   "attachments": {},
   "cell_type": "markdown",
   "metadata": {},
   "source": [
    "1) Crear la clase vehículo que contenga los atributos:<br>\n",
    "Color<br>\n",
    "Si es moto, auto, camioneta ó camión<br>\n",
    "Cilindrada del motor"
   ]
  },
  {
   "cell_type": "code",
   "execution_count": null,
   "metadata": {},
   "outputs": [],
   "source": [
    "class Vehiculo:\n",
    "    def __init__(self, color, tipo, cilindraje):\n",
    "        self.color = color\n",
    "        self.tipo = tipo\n",
    "        self.cilindraje = cilindraje"
   ]
  },
  {
   "attachments": {},
   "cell_type": "markdown",
   "metadata": {},
   "source": [
    "2) A la clase Vehiculo creada en el punto 1, agregar los siguientes métodos:<br>\n",
    "Acelerar<br>\n",
    "Frenar<br>\n",
    "Doblar<br>"
   ]
  },
  {
   "cell_type": "code",
   "execution_count": null,
   "metadata": {},
   "outputs": [],
   "source": [
    "class Vehiculo:\n",
    "    def __init__(self, color, tipo, cilindraje):\n",
    "        self.color = color\n",
    "        self.tipo = tipo\n",
    "        self.cilindraje = cilindraje\n",
    "        self.acelera = 0\n",
    "        self.gira = 0\n",
    "    def estado_acelerar(self, acelera):\n",
    "        self.acelera += acelera\n",
    "    def estado_frenar(self, frena):\n",
    "        self.frena -= frena\n",
    "    def estado_girar(self, gira):\n",
    "        self.gira += gira\n",
    "    def descripcion_basica(self):\n",
    "        return print(\"Vehículo tipo:\", self.tipo, \"|Color:\", self.color, \"|Cilindraje cc:\", self.cilindraje)\n",
    "    def describe_estado(self):\n",
    "        return print(\"Velocidad km/hr:\", self.acelera, \"|Dirección en grados:\", self.gira)\n",
    "       "
   ]
  },
  {
   "attachments": {},
   "cell_type": "markdown",
   "metadata": {},
   "source": [
    "3) Instanciar 3 objetos de la clase vehículo y ejecutar sus métodos, probar luego el resultado"
   ]
  },
  {
   "cell_type": "code",
   "execution_count": null,
   "metadata": {},
   "outputs": [],
   "source": [
    "a001 = Vehiculo(\"Negro\", \"Moto\", 250)\n",
    "a002 = Vehiculo(\"Rojo\", \"Moto\", 500)\n",
    "a030 = Vehiculo(\"Blanco\", \"Camioneta\", 3000)\n",
    "a020 = Vehiculo(\"VerdeClaro\", \"Auto\", 1800)"
   ]
  },
  {
   "cell_type": "code",
   "execution_count": null,
   "metadata": {},
   "outputs": [],
   "source": [
    "a002.estado_acelerar(200)\n",
    "a002.estado_girar(-30)\n",
    "a002.estado_acelerar(100)\n",
    "#a002.estado_frenar(60)\n",
    "a001.estado_acelerar(240)\n",
    "a001.estado_girar(57)"
   ]
  },
  {
   "attachments": {},
   "cell_type": "markdown",
   "metadata": {},
   "source": [
    "4) Agregar a la clase Vehiculo, un método que muestre su estado, es decir, a que velocidad se encuentra y su dirección. Y otro método que muestre color, tipo y cilindrada"
   ]
  },
  {
   "cell_type": "code",
   "execution_count": null,
   "metadata": {},
   "outputs": [],
   "source": [
    "a002.descripcion_basica()\n",
    "a002.describe_estado()"
   ]
  },
  {
   "cell_type": "code",
   "execution_count": null,
   "metadata": {},
   "outputs": [],
   "source": [
    "a001.descripcion_basica()\n",
    "a001.describe_estado()"
   ]
  },
  {
   "attachments": {},
   "cell_type": "markdown",
   "metadata": {},
   "source": [
    "5) Crear una clase que permita utilizar las funciones creadas en la práctica del módulo 7<br>\n",
    "Verificar Primo<br>\n",
    "Valor modal<br>\n",
    "Conversión grados<br>\n",
    "Factorial<br>"
   ]
  },
  {
   "cell_type": "code",
   "execution_count": 1,
   "metadata": {},
   "outputs": [],
   "source": [
    "class Operatividad:\n",
    "\n",
    "    def __init__(self) -> None:\n",
    "        pass\n",
    "    \n",
    "    def primo (x):\n",
    "        si_primo = True\n",
    "        if x == 2:\n",
    "            return True\n",
    "        for i in range (2, x):\n",
    "            if x % i == 0:\n",
    "                si_primo = False\n",
    "                break\n",
    "        return si_primo\n",
    "    \n",
    "    def ocurrencia(lst):\n",
    "        lst_rep = dict()\n",
    "        for i in lst:\n",
    "            lst_rep[i] = lst.count(i)\n",
    "            lst_rep_orden = sorted(lst_rep.items(), key=lambda item:item[1], reverse=True)\n",
    "        for l,m in enumerate(lst_rep_orden):\n",
    "            return \"El número que más se repite es\", m[0], \"con\", m[1], \"ocurrencias\"\n",
    "        \n",
    "    def temperatura(valor, ent_med, sal_med):\n",
    "        if ent_med == \"Celsius\":\n",
    "            if sal_med == \"Farenheit\":\n",
    "                salida = (valor * (9 / 5) + 32)\n",
    "            elif sal_med == \"Kelvin\":\n",
    "                salida = (valor + 273.15)\n",
    "        if ent_med == \"Farenheit\":\n",
    "            if sal_med == \"Celsius\":\n",
    "                salida = (valor - 32) / (9 / 5)\n",
    "            elif sal_med == \"Kelvin\":\n",
    "                salida = ((valor - 32) / (9 / 5)) + 273.15\n",
    "        if ent_med == \"Kelvin\":\n",
    "            if sal_med == \"Celsius\":\n",
    "                salida = valor - 273.15\n",
    "            elif sal_med == \"Farenheit\":\n",
    "                salida = ((valor - 273.15) * (9 / 5)) + 32\n",
    "        return round(salida,2)\n",
    "    \n",
    "    def factorial(x):\n",
    "        import numpy\n",
    "        f = []\n",
    "        if type(x) != int or x < 0 :\n",
    "            return \"Debe ingresar un número entero mayor que cero\"\n",
    "        else:\n",
    "            for i in range(1,(x+1)):\n",
    "                f.append(i)\n",
    "                fac = numpy.prod(f)\n",
    "        return fac\n",
    "\n",
    "    "
   ]
  },
  {
   "cell_type": "code",
   "execution_count": 2,
   "metadata": {},
   "outputs": [
    {
     "name": "stdout",
     "output_type": "stream",
     "text": [
      "<class 'type'>\n"
     ]
    }
   ],
   "source": [
    "print(type(Operatividad))"
   ]
  },
  {
   "attachments": {},
   "cell_type": "markdown",
   "metadata": {},
   "source": [
    "6) Probar las funciones incorporadas en la clase del punto 5"
   ]
  },
  {
   "cell_type": "code",
   "execution_count": null,
   "metadata": {},
   "outputs": [],
   "source": [
    "Operatividad.primo(101)"
   ]
  },
  {
   "cell_type": "code",
   "execution_count": null,
   "metadata": {},
   "outputs": [],
   "source": [
    "lst = [5,8,23,20,15]\n",
    "Operatividad.ocurrencia(lst)"
   ]
  },
  {
   "cell_type": "code",
   "execution_count": null,
   "metadata": {},
   "outputs": [],
   "source": [
    "Operatividad.factorial(5)"
   ]
  },
  {
   "cell_type": "code",
   "execution_count": null,
   "metadata": {},
   "outputs": [],
   "source": [
    "Operatividad.temperatura(10,\"Kelvin\",\"Farenheit\")"
   ]
  },
  {
   "attachments": {},
   "cell_type": "markdown",
   "metadata": {},
   "source": [
    "7) Es necesario que la clase creada en el punto 5 contenga una lista, sobre la cual se apliquen las funciones incorporadas"
   ]
  },
  {
   "cell_type": "code",
   "execution_count": null,
   "metadata": {},
   "outputs": [],
   "source": [
    "class Operatividad:\n",
    "\n",
    "    def __init__(self, listado):\n",
    "        self.listado = listado\n",
    "\n",
    "    def primo_listado(self):\n",
    "        for i,j in enumerate(self.listado):\n",
    "            if (self.primo(j)) == True:\n",
    "                print(\"El número:\", j, \"que aparece en la lista en posición\", i, \">>> ES PRIMO\")\n",
    "            elif (self.primo(j)) == None:\n",
    "                print(\"El número:\", j, \"que aparece en la lista en posición\", i, \"es igual o menor que CERO\")\n",
    "            else:\n",
    "                print(\"El número:\", j, \"que aparece en la lista en posición\", i, \">>> NO es PRIMO\") \n",
    "          \n",
    "    def ocurrencia_listado(self):\n",
    "        lst = self.listado\n",
    "        print(\"El número más repetido en la lista es el primero de la tupla. El segundo número es su frecuencia:\", self.ocurrencia(lst))\n",
    "\n",
    "    def temperatura_listado(self, ent_med, sal_med):\n",
    "        for i in (self.listado):\n",
    "            print(i, \"Grados\", ent_med, \"son equivalentes a\", self.temperatura(i, ent_med, sal_med), \"Grados\", sal_med)\n",
    "\n",
    "    def factorial_listado(self):\n",
    "        for n in (self.listado):\n",
    "            print (\"El cálculo factorial para el número\", n, \"de la lista es igual a: \", self.factorial(n))\n",
    "            \n",
    "    #############################################################################################################################\n",
    "    \n",
    "    def primo(self, x):\n",
    "        si_primo = True\n",
    "        if x == 2:\n",
    "            return True\n",
    "        elif x == 1:\n",
    "            return False\n",
    "        elif x <= 0:\n",
    "            return None\n",
    "        for i in range (2, x):\n",
    "            if x % i == 0:\n",
    "                si_primo = False\n",
    "                break\n",
    "        return si_primo\n",
    "    \n",
    "    def ocurrencia(self, lst):\n",
    "        lst_rep = dict()\n",
    "        lst1 = []\n",
    "        for i in lst:\n",
    "            lst_rep[i] = lst.count(i)\n",
    "            lst_rep_orden = sorted(lst_rep.items(), key=lambda item:item[1], reverse=True)\n",
    "        lst1.extend(lst_rep_orden[0])\n",
    "        return lst1[0], lst1[1]\n",
    "        \n",
    "    def temperatura(self, valor, ent_med, sal_med):\n",
    "        if ent_med == \"Celsius\":\n",
    "            if sal_med == \"Farenheit\":\n",
    "                salida = (valor * (9 / 5) + 32)\n",
    "            elif sal_med == \"Kelvin\":\n",
    "                salida = (valor + 273.15)\n",
    "        if ent_med == \"Farenheit\":\n",
    "            if sal_med == \"Celsius\":\n",
    "                salida = (valor - 32) / (9 / 5)\n",
    "            elif sal_med == \"Kelvin\":\n",
    "                salida = ((valor - 32) / (9 / 5)) + 273.15\n",
    "        if ent_med == \"Kelvin\":\n",
    "            if sal_med == \"Celsius\":\n",
    "                salida = valor - 273.15\n",
    "            elif sal_med == \"Farenheit\":\n",
    "                salida = ((valor - 273.15) * (9 / 5)) + 32\n",
    "        return round(salida,2)\n",
    "    \n",
    "    def factorial(self, x):\n",
    "        import numpy\n",
    "        f = []\n",
    "        if type(x) != int:\n",
    "            return \"Debe ingresar un número entero mayor que cero\"\n",
    "        elif x == 0:\n",
    "            return 1\n",
    "        elif x < 0:\n",
    "            return None\n",
    "        else:\n",
    "            for i in range(1,(x+1)):\n",
    "                f.append(i)\n",
    "                fac = numpy.prod(f)\n",
    "        return fac"
   ]
  },
  {
   "cell_type": "code",
   "execution_count": null,
   "metadata": {},
   "outputs": [],
   "source": [
    "opera = Operatividad([2,7,4,3,4,3,4,3,7,6,4,4,6,2,4,1,6,5,4,7,3,3,3,0,-4,-5,-1])\n",
    "type(opera)"
   ]
  },
  {
   "cell_type": "code",
   "execution_count": null,
   "metadata": {},
   "outputs": [],
   "source": [
    "opera.primo_listado()"
   ]
  },
  {
   "cell_type": "code",
   "execution_count": null,
   "metadata": {},
   "outputs": [],
   "source": [
    "opera.ocurrencia_listado()"
   ]
  },
  {
   "cell_type": "code",
   "execution_count": null,
   "metadata": {},
   "outputs": [],
   "source": [
    "opera.factorial_listado()"
   ]
  },
  {
   "cell_type": "code",
   "execution_count": null,
   "metadata": {},
   "outputs": [],
   "source": [
    "opera.temperatura_listado(\"Farenheit\", \"Celsius\")"
   ]
  },
  {
   "attachments": {},
   "cell_type": "markdown",
   "metadata": {},
   "source": [
    "8) Crear un archivo .py aparte y ubicar allí la clase generada en el punto anterior. Luego realizar la importación del módulo y probar alguna de sus funciones"
   ]
  },
  {
   "cell_type": "code",
   "execution_count": null,
   "metadata": {},
   "outputs": [],
   "source": [
    "# Importando la CLASE y sus FUNCIONES\n",
    "from operatividad import *"
   ]
  },
  {
   "cell_type": "code",
   "execution_count": null,
   "metadata": {},
   "outputs": [],
   "source": [
    "# Se llama directamente a la CLASE\n",
    "opera1 = Operatividad([2,7,4,3,4,3,4,3,7,6,4,4,6,2,4,1,6,5,4,7,3,3,3,0,-4,-5,-1])"
   ]
  },
  {
   "cell_type": "code",
   "execution_count": null,
   "metadata": {},
   "outputs": [],
   "source": [
    "opera1.factorial_listado()"
   ]
  },
  {
   "cell_type": "code",
   "execution_count": null,
   "metadata": {},
   "outputs": [],
   "source": [
    "opera1.temperatura_listado(\"Kelvin\", \"Farenheit\")"
   ]
  },
  {
   "cell_type": "code",
   "execution_count": 1,
   "metadata": {},
   "outputs": [],
   "source": [
    "# Importanto toda la LIBRERÍA\n",
    "import operatividad"
   ]
  },
  {
   "cell_type": "code",
   "execution_count": 2,
   "metadata": {},
   "outputs": [],
   "source": [
    "# Se llama al MÓDULO y luego a la CLASE\n",
    "opera2 = operatividad.Operatividad([2,7,4,3,4,3,4,3,7,6,4,4,6,2,4,1,6,5,4,7,3,3,3,0,-4,-5,-1])"
   ]
  },
  {
   "cell_type": "code",
   "execution_count": 3,
   "metadata": {},
   "outputs": [
    {
     "name": "stdout",
     "output_type": "stream",
     "text": [
      "2 Grados Kelvin son equivalentes a -456.07 Grados Farenheit\n",
      "7 Grados Kelvin son equivalentes a -447.07 Grados Farenheit\n",
      "4 Grados Kelvin son equivalentes a -452.47 Grados Farenheit\n",
      "3 Grados Kelvin son equivalentes a -454.27 Grados Farenheit\n",
      "4 Grados Kelvin son equivalentes a -452.47 Grados Farenheit\n",
      "3 Grados Kelvin son equivalentes a -454.27 Grados Farenheit\n",
      "4 Grados Kelvin son equivalentes a -452.47 Grados Farenheit\n",
      "3 Grados Kelvin son equivalentes a -454.27 Grados Farenheit\n",
      "7 Grados Kelvin son equivalentes a -447.07 Grados Farenheit\n",
      "6 Grados Kelvin son equivalentes a -448.87 Grados Farenheit\n",
      "4 Grados Kelvin son equivalentes a -452.47 Grados Farenheit\n",
      "4 Grados Kelvin son equivalentes a -452.47 Grados Farenheit\n",
      "6 Grados Kelvin son equivalentes a -448.87 Grados Farenheit\n",
      "2 Grados Kelvin son equivalentes a -456.07 Grados Farenheit\n",
      "4 Grados Kelvin son equivalentes a -452.47 Grados Farenheit\n",
      "1 Grados Kelvin son equivalentes a -457.87 Grados Farenheit\n",
      "6 Grados Kelvin son equivalentes a -448.87 Grados Farenheit\n",
      "5 Grados Kelvin son equivalentes a -450.67 Grados Farenheit\n",
      "4 Grados Kelvin son equivalentes a -452.47 Grados Farenheit\n",
      "7 Grados Kelvin son equivalentes a -447.07 Grados Farenheit\n",
      "3 Grados Kelvin son equivalentes a -454.27 Grados Farenheit\n",
      "3 Grados Kelvin son equivalentes a -454.27 Grados Farenheit\n",
      "3 Grados Kelvin son equivalentes a -454.27 Grados Farenheit\n",
      "0 Grados Kelvin son equivalentes a -459.67 Grados Farenheit\n",
      "-4 Grados Kelvin son equivalentes a -466.87 Grados Farenheit\n",
      "-5 Grados Kelvin son equivalentes a -468.67 Grados Farenheit\n",
      "-1 Grados Kelvin son equivalentes a -461.47 Grados Farenheit\n"
     ]
    }
   ],
   "source": [
    "opera2.temperatura_listado(\"Kelvin\", \"Farenheit\")"
   ]
  }
 ],
 "metadata": {
  "interpreter": {
   "hash": "c85384e4cb51c8b72350f3a8712cc8351fdc3955e32a27f9b60c6242ab125f01"
  },
  "kernelspec": {
   "display_name": "Python 3 (ipykernel)",
   "language": "python",
   "name": "python3"
  },
  "language_info": {
   "codemirror_mode": {
    "name": "ipython",
    "version": 3
   },
   "file_extension": ".py",
   "mimetype": "text/x-python",
   "name": "python",
   "nbconvert_exporter": "python",
   "pygments_lexer": "ipython3",
   "version": "3.11.5"
  }
 },
 "nbformat": 4,
 "nbformat_minor": 4
}
