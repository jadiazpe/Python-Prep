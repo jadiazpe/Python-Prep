{
 "cells": [
  {
   "cell_type": "markdown",
   "metadata": {},
   "source": [
    "## CLASES - OBJETOS | ATRIBUTOS | MÉTODOS"
   ]
  },
  {
   "cell_type": "code",
   "execution_count": null,
   "metadata": {},
   "outputs": [],
   "source": [
    "class Gato:\n",
    "    def __init__(self,nombre,edad,raza,sexo):\n",
    "        self.nombre = nombre\n",
    "        self.edad = edad\n",
    "        self.raza = raza\n",
    "        self.sexo = sexo\n",
    "    \n",
    "    def presentar(self):\n",
    "        return print(\"Nombre:\",self.nombre,\"|\",\"Edad:\",self.edad,\"|\",\"Raza:\",self.raza,\"|\",\"Sexo:\",self.sexo,\"|\")"
   ]
  },
  {
   "cell_type": "code",
   "execution_count": null,
   "metadata": {},
   "outputs": [],
   "source": [
    "gato1 = Gato(\"Pompón\", 2, \"Siames\", \"Macho\")\n",
    "gato2 = Gato(\"Grogu\", 1.5, \" \", \"Macho\")"
   ]
  },
  {
   "cell_type": "code",
   "execution_count": null,
   "metadata": {},
   "outputs": [],
   "source": [
    "gato2.presentar()"
   ]
  },
  {
   "cell_type": "code",
   "execution_count": null,
   "metadata": {},
   "outputs": [],
   "source": [
    "class CuentaBancaria:\n",
    "    def __init__(self, saldo):\n",
    "        self.saldo = saldo\n",
    "    \n",
    "    def depositar(self, monto):\n",
    "        self.saldo += monto\n",
    "\n",
    "    def retirar(self, monto):\n",
    "        if self.saldo > monto:\n",
    "            self.saldo -= monto\n",
    "            print(\"Saldo actual: $\", self.saldo, \", Luego de retirar: $\", monto)\n",
    "        else:\n",
    "            print(\"Saldo actual: $\", self.saldo, \". Fondos Insuficientes para retirar: $\", monto)\n",
    "    \n",
    "    def obtener_saldo(self):\n",
    "        return self.saldo\n"
   ]
  },
  {
   "cell_type": "code",
   "execution_count": null,
   "metadata": {},
   "outputs": [],
   "source": [
    "jdiaz = CuentaBancaria(200000)\n",
    "print(jdiaz.saldo)\n",
    "jdiaz.depositar(300000)\n",
    "print(jdiaz.saldo)\n",
    "jdiaz.retirar(820000)\n",
    "print(jdiaz.saldo)\n",
    "#jdiaz.obtener_saldo"
   ]
  },
  {
   "cell_type": "code",
   "execution_count": null,
   "metadata": {},
   "outputs": [],
   "source": [
    "class Animal:\n",
    "    def __init__(self,especie,edad,color):\n",
    "        self.especie = especie\n",
    "        self.edad = edad\n",
    "        self.color = color\n",
    "    \n",
    "    def me_presento(self):\n",
    "        print(\"Hola soy un(a):\", self.especie, \"con\", self.edad, \"años\", \"color\", self.color)\n",
    "    \n",
    "    def cumple_años(self):\n",
    "        self.edad += 1"
   ]
  },
  {
   "cell_type": "code",
   "execution_count": null,
   "metadata": {},
   "outputs": [],
   "source": [
    "animal1 = Animal(\"perro\", 3, \"blanco\")\n",
    "animal2 = Animal(\"foca\", 0, \"negro\")"
   ]
  },
  {
   "cell_type": "code",
   "execution_count": null,
   "metadata": {},
   "outputs": [],
   "source": [
    "animal1.me_presento()\n",
    "animal2.me_presento()"
   ]
  },
  {
   "cell_type": "code",
   "execution_count": null,
   "metadata": {},
   "outputs": [],
   "source": [
    "animal1.cumple_años()\n",
    "animal2.cumple_años()\n",
    "animal1.me_presento()\n",
    "animal2.me_presento()"
   ]
  },
  {
   "cell_type": "markdown",
   "metadata": {},
   "source": [
    "## HERENCIA"
   ]
  },
  {
   "cell_type": "code",
   "execution_count": 1,
   "metadata": {},
   "outputs": [],
   "source": [
    "class Animal1:\n",
    "    def __init__(self, nombre, grupo, edad):\n",
    "        self.nombre = nombre\n",
    "        self.grupo = grupo\n",
    "        self.edad = edad\n",
    "    def hablar(self): # Implementación Genérica método vacio\n",
    "        pass\n",
    "    def moverse(self): # Implementación Genérica método vacio\n",
    "        pass\n",
    "    def describirme (self):\n",
    "        print(\"Me llamo\", self.nombre, \"y soy un animal del tipo\", type(self).__name__)"
   ]
  },
  {
   "cell_type": "code",
   "execution_count": 2,
   "metadata": {},
   "outputs": [],
   "source": [
    "# Clase hija \"Ave\" hereda CAM de clase papá \"Animal\"\n",
    "class Ave(Animal1):\n",
    "    pass"
   ]
  },
  {
   "cell_type": "code",
   "execution_count": 3,
   "metadata": {},
   "outputs": [
    {
     "name": "stdout",
     "output_type": "stream",
     "text": [
      "Me llamo Parlante y soy un animal del tipo Ave\n",
      "Me llamo Cotorra y soy un animal del tipo Ave\n"
     ]
    }
   ],
   "source": [
    "# Creamos objeto en clase Perro\n",
    "A001 = Ave(\"Parlante\", \"Ave\", 3)\n",
    "A002 = Ave(\"Cotorra\", \"Ave\", 5)\n",
    "A001.describirme()\n",
    "A002.describirme()"
   ]
  },
  {
   "cell_type": "code",
   "execution_count": 4,
   "metadata": {},
   "outputs": [],
   "source": [
    "class Canes(Animal1):\n",
    "    def hablar(self):\n",
    "        print(\"Ladrido: Guau!\")\n",
    "    def moverse(self):\n",
    "        print(\"Camino en 4 patas\")\n",
    "\n",
    "class Vacunos(Animal1):\n",
    "    def hablar(self):\n",
    "        print(\"Mugido: Muuu!\")\n",
    "    def moverse(self):\n",
    "        print(\"Camino en 4 patas\")\n",
    "\n",
    "class Peces(Animal1):\n",
    "    def hablar(self):\n",
    "        print(\": Gluglu!\")\n",
    "    def moverse(self):\n",
    "        print(\"Nado\")\n",
    "    def habitat(self):\n",
    "        print(\"Mar\")"
   ]
  },
  {
   "cell_type": "code",
   "execution_count": 5,
   "metadata": {},
   "outputs": [],
   "source": [
    "A010 = Canes(\"Lunita\", \"Mamífero\", 7)\n",
    "A011 = Canes(\"Isis\", \"Mamífero\", 10)\n",
    "A020 = Vacunos(\"Lucrecia\", \"Mamífero\", 4)\n",
    "A030 = Peces(\"Nemo\", \"Pez\", 1)"
   ]
  },
  {
   "cell_type": "code",
   "execution_count": 6,
   "metadata": {},
   "outputs": [
    {
     "name": "stdout",
     "output_type": "stream",
     "text": [
      "Me llamo Lucrecia y soy un animal del tipo Vacunos\n",
      "Ladrido: Guau!\n",
      "Nado\n",
      "Mar\n"
     ]
    }
   ],
   "source": [
    "A020.describirme()\n",
    "A010.hablar()\n",
    "A011.edad\n",
    "A030.moverse()\n",
    "A030.habitat()"
   ]
  },
  {
   "cell_type": "code",
   "execution_count": 7,
   "metadata": {},
   "outputs": [],
   "source": [
    "# Método super()\n",
    "class Canes(Animal1):\n",
    "    def __init__(self, nombre, grupo, edad, dueño):\n",
    "        super().__init__(nombre, grupo, edad)\n",
    "        self.dueño = dueño"
   ]
  },
  {
   "cell_type": "code",
   "execution_count": 8,
   "metadata": {},
   "outputs": [
    {
     "name": "stdout",
     "output_type": "stream",
     "text": [
      "Me llamo Mateo y soy un animal del tipo Canes\n"
     ]
    },
    {
     "data": {
      "text/plain": [
       "'Chapu'"
      ]
     },
     "execution_count": 8,
     "metadata": {},
     "output_type": "execute_result"
    }
   ],
   "source": [
    "A012 = Canes(\"Mateo\", \"Mamífero\", 14, \"Chapu\")\n",
    "A012.describirme()\n",
    "A012.dueño"
   ]
  },
  {
   "cell_type": "markdown",
   "metadata": {},
   "source": [
    "## MÓDULOS Y LIBRERIAS"
   ]
  },
  {
   "cell_type": "code",
   "execution_count": null,
   "metadata": {},
   "outputs": [],
   "source": [
    "import math\n",
    "x = [1,4,100]\n",
    "mult = math.prod(x)\n",
    "print(mult)"
   ]
  },
  {
   "cell_type": "code",
   "execution_count": 3,
   "metadata": {},
   "outputs": [
    {
     "name": "stdout",
     "output_type": "stream",
     "text": [
      "('El número que más se repite es', 3, 'con', 5, 'ocurrencias')\n"
     ]
    }
   ],
   "source": [
    "import sys\n",
    "sys.path.append(\"C:\\DATA_SCIENCE\\JD_MODULES\\PY\")\n",
    "\n",
    "import ocurrencia\n",
    "z = [4,6,4,2,1,3,3,3,8,9,1,0,5,3,4,5,7,2,2,8,9,11,3]\n",
    "print (ocurrencia.ocurre_n(z))"
   ]
  },
  {
   "cell_type": "code",
   "execution_count": null,
   "metadata": {},
   "outputs": [],
   "source": [
    "import ocurrencia as oc\n",
    "z = [4,6,4,2,1,3,3,3,8,9,1,0,5,3,4,5,7,2,2,8,9,11]\n",
    "print (oc.ocurre_n(z))"
   ]
  },
  {
   "cell_type": "markdown",
   "metadata": {},
   "source": [
    "SYSPATH"
   ]
  },
  {
   "cell_type": "code",
   "execution_count": null,
   "metadata": {},
   "outputs": [],
   "source": [
    "import sys\n",
    "sys.path"
   ]
  },
  {
   "cell_type": "code",
   "execution_count": 1,
   "metadata": {},
   "outputs": [
    {
     "data": {
      "text/plain": [
       "['c:\\\\DATA_SCIENCE\\\\PREP_REPOSITORY\\\\Python-Prep\\\\M08_clasesyOOP',\n",
       " 'C:\\\\Program Files\\\\WindowsApps\\\\PythonSoftwareFoundation.Python.3.11_3.11.1520.0_x64__qbz5n2kfra8p0\\\\python311.zip',\n",
       " 'C:\\\\Program Files\\\\WindowsApps\\\\PythonSoftwareFoundation.Python.3.11_3.11.1520.0_x64__qbz5n2kfra8p0\\\\DLLs',\n",
       " 'C:\\\\Program Files\\\\WindowsApps\\\\PythonSoftwareFoundation.Python.3.11_3.11.1520.0_x64__qbz5n2kfra8p0\\\\Lib',\n",
       " 'C:\\\\Program Files\\\\WindowsApps\\\\PythonSoftwareFoundation.Python.3.11_3.11.1520.0_x64__qbz5n2kfra8p0',\n",
       " '',\n",
       " 'C:\\\\Users\\\\jairo\\\\AppData\\\\Local\\\\Packages\\\\PythonSoftwareFoundation.Python.3.11_qbz5n2kfra8p0\\\\LocalCache\\\\local-packages\\\\Python311\\\\site-packages',\n",
       " 'C:\\\\Users\\\\jairo\\\\AppData\\\\Local\\\\Packages\\\\PythonSoftwareFoundation.Python.3.11_qbz5n2kfra8p0\\\\LocalCache\\\\local-packages\\\\Python311\\\\site-packages\\\\win32',\n",
       " 'C:\\\\Users\\\\jairo\\\\AppData\\\\Local\\\\Packages\\\\PythonSoftwareFoundation.Python.3.11_qbz5n2kfra8p0\\\\LocalCache\\\\local-packages\\\\Python311\\\\site-packages\\\\win32\\\\lib',\n",
       " 'C:\\\\Users\\\\jairo\\\\AppData\\\\Local\\\\Packages\\\\PythonSoftwareFoundation.Python.3.11_qbz5n2kfra8p0\\\\LocalCache\\\\local-packages\\\\Python311\\\\site-packages\\\\Pythonwin',\n",
       " 'C:\\\\Program Files\\\\WindowsApps\\\\PythonSoftwareFoundation.Python.3.11_3.11.1520.0_x64__qbz5n2kfra8p0\\\\Lib\\\\site-packages',\n",
       " 'C:\\\\DATA_SCIENCE\\\\JD_MODULES\\\\PY']"
      ]
     },
     "execution_count": 1,
     "metadata": {},
     "output_type": "execute_result"
    }
   ],
   "source": [
    "import sys\n",
    "sys.path.append(\"C:\\DATA_SCIENCE\\JD_MODULES\\PY\")\n",
    "sys.path"
   ]
  },
  {
   "cell_type": "markdown",
   "metadata": {},
   "source": [
    "IF NAME == MAIN"
   ]
  },
  {
   "cell_type": "code",
   "execution_count": null,
   "metadata": {},
   "outputs": [],
   "source": [
    "#Ejecutando Módulo NO IMPORTADO\n",
    "print(\"crea la funcion 1\")\n",
    "def funcion1():\n",
    "    print(\"ejecuta la funcion 1\")\n",
    "print(\"crea la funcion 2\")\n",
    "def funcion2():\n",
    "    print(\"ejecuta la funcion 2\")\n",
    "print(\"crea la funcion 3\")    \n",
    "def funcion3():\n",
    "    print(\"ejecuta la funcion 3\")\n",
    "print(\"crea la funcion 4\")\n",
    "def funcion4():\n",
    "    print(\"ejecuta la funcion 4\")\n",
    "print(\"crea la funcion 5\")\n",
    "def funcion5():\n",
    "    print(\"ejecuta la funcion 5\")\n",
    "\n",
    "print(\"antes de comprobar __name__\")\n",
    "if __name__ == '__main__':\n",
    "    funcion1()\n",
    "    funcion5()\n",
    "else:\n",
    "    funcion3()\n",
    "    funcion4()\n",
    "    funcion2()\n",
    "\n",
    "print(\"despues del bloque __name__\")"
   ]
  },
  {
   "cell_type": "code",
   "execution_count": 2,
   "metadata": {},
   "outputs": [
    {
     "name": "stdout",
     "output_type": "stream",
     "text": [
      "crea la funcion 1\n",
      "crea la funcion 2\n",
      "crea la funcion 3\n",
      "crea la funcion 4\n",
      "crea la funcion 5\n",
      "antes de comprobar __name__\n",
      "ejecuta la funcion 3\n",
      "ejecuta la funcion 4\n",
      "ejecuta la funcion 2\n",
      "despues del bloque __name__\n",
      "ejecuta la funcion 1\n"
     ]
    }
   ],
   "source": [
    "import ejemplo\n",
    "ejemplo.funcion1()"
   ]
  }
 ],
 "metadata": {
  "kernelspec": {
   "display_name": "Python 3",
   "language": "python",
   "name": "python3"
  },
  "language_info": {
   "codemirror_mode": {
    "name": "ipython",
    "version": 3
   },
   "file_extension": ".py",
   "mimetype": "text/x-python",
   "name": "python",
   "nbconvert_exporter": "python",
   "pygments_lexer": "ipython3",
   "version": "3.11.5"
  },
  "orig_nbformat": 4
 },
 "nbformat": 4,
 "nbformat_minor": 2
}
