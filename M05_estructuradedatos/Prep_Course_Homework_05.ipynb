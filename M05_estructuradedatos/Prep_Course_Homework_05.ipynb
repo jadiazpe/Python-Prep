{
 "cells": [
  {
   "attachments": {},
   "cell_type": "markdown",
   "metadata": {},
   "source": [
    "## Estructuras de Datos"
   ]
  },
  {
   "attachments": {},
   "cell_type": "markdown",
   "metadata": {},
   "source": [
    "1) Crear una lista que contenga nombres de ciudades del mundo que contenga más de 5 elementos e imprimir por pantalla"
   ]
  },
  {
   "cell_type": "code",
   "execution_count": 25,
   "metadata": {},
   "outputs": [
    {
     "name": "stdout",
     "output_type": "stream",
     "text": [
      "['Londres', 'Miami', 'Bogotá', 'Bombay', 'Sidney', 'Madrid', 'Moscú']\n"
     ]
    }
   ],
   "source": [
    "ciudades = [\"Londres\", \"Miami\", \"Bogotá\", \"Bombay\", \"Sidney\", \"Madrid\", \"Moscú\"]\n",
    "print (ciudades)"
   ]
  },
  {
   "attachments": {},
   "cell_type": "markdown",
   "metadata": {},
   "source": [
    "2) Imprimir por pantalla el segundo elemento de la lista"
   ]
  },
  {
   "cell_type": "code",
   "execution_count": 26,
   "metadata": {},
   "outputs": [
    {
     "name": "stdout",
     "output_type": "stream",
     "text": [
      "Miami\n"
     ]
    }
   ],
   "source": [
    "print(ciudades[1])"
   ]
  },
  {
   "attachments": {},
   "cell_type": "markdown",
   "metadata": {},
   "source": [
    "3) Imprimir por pantalla del segundo al cuarto elemento"
   ]
  },
  {
   "cell_type": "code",
   "execution_count": 27,
   "metadata": {},
   "outputs": [
    {
     "name": "stdout",
     "output_type": "stream",
     "text": [
      "['Miami', 'Bogotá', 'Bombay']\n"
     ]
    }
   ],
   "source": [
    "print(ciudades[1:4])"
   ]
  },
  {
   "attachments": {},
   "cell_type": "markdown",
   "metadata": {},
   "source": [
    "4) Visualizar el tipo de dato de la lista"
   ]
  },
  {
   "cell_type": "code",
   "execution_count": 28,
   "metadata": {},
   "outputs": [
    {
     "name": "stdout",
     "output_type": "stream",
     "text": [
      "<class 'list'>\n"
     ]
    }
   ],
   "source": [
    "print(type(ciudades))"
   ]
  },
  {
   "attachments": {},
   "cell_type": "markdown",
   "metadata": {},
   "source": [
    "5) Visualizar todos los elementos de la lista a partir del tercero de manera genérica, es decir, sin explicitar la posición del último elemento"
   ]
  },
  {
   "cell_type": "code",
   "execution_count": 29,
   "metadata": {},
   "outputs": [
    {
     "name": "stdout",
     "output_type": "stream",
     "text": [
      "['Bogotá', 'Bombay', 'Sidney', 'Madrid', 'Moscú']\n"
     ]
    }
   ],
   "source": [
    "print(ciudades[2:])"
   ]
  },
  {
   "attachments": {},
   "cell_type": "markdown",
   "metadata": {},
   "source": [
    "6) Visualizar los primeros 4 elementos de la lista"
   ]
  },
  {
   "cell_type": "code",
   "execution_count": 30,
   "metadata": {},
   "outputs": [
    {
     "name": "stdout",
     "output_type": "stream",
     "text": [
      "['Londres', 'Miami', 'Bogotá', 'Bombay']\n"
     ]
    }
   ],
   "source": [
    "print(ciudades[0:4])"
   ]
  },
  {
   "attachments": {},
   "cell_type": "markdown",
   "metadata": {},
   "source": [
    "7) Agregar una ciudad más a la lista que ya exista y otra que no ¿Arroja algún tipo de error?"
   ]
  },
  {
   "cell_type": "code",
   "execution_count": 31,
   "metadata": {},
   "outputs": [
    {
     "name": "stdout",
     "output_type": "stream",
     "text": [
      "['Londres', 'Miami', 'Bogotá', 'Bombay', 'Sidney', 'Madrid', 'Moscú', 'Dallas', 'Bogotá']\n"
     ]
    }
   ],
   "source": [
    "ciudades.append(\"Dallas\")\n",
    "ciudades.append(\"Bogotá\")\n",
    "print(ciudades)"
   ]
  },
  {
   "attachments": {},
   "cell_type": "markdown",
   "metadata": {},
   "source": [
    "8) Agregar otra ciudad, pero en la cuarta posición"
   ]
  },
  {
   "cell_type": "code",
   "execution_count": 32,
   "metadata": {},
   "outputs": [
    {
     "name": "stdout",
     "output_type": "stream",
     "text": [
      "['Londres', 'Miami', 'Bogotá', 'Medellín', 'Bombay', 'Sidney', 'Madrid', 'Moscú', 'Dallas', 'Bogotá']\n"
     ]
    }
   ],
   "source": [
    "ciudades.insert(3, \"Medellín\")\n",
    "print(ciudades)"
   ]
  },
  {
   "attachments": {},
   "cell_type": "markdown",
   "metadata": {},
   "source": [
    "9) Concatenar otra lista a la ya creada"
   ]
  },
  {
   "cell_type": "code",
   "execution_count": 33,
   "metadata": {},
   "outputs": [
    {
     "name": "stdout",
     "output_type": "stream",
     "text": [
      "['Londres', 'Miami', 'Bogotá', 'Medellín', 'Bombay', 'Sidney', 'Madrid', 'Moscú', 'Dallas', 'Bogotá', 'Brasil', 'Grecia', 'Suiza']\n"
     ]
    }
   ],
   "source": [
    "paises = [\"Brasil\", \"Grecia\", \"Suiza\"]\n",
    "ciudades.extend(paises)\n",
    "print(ciudades)"
   ]
  },
  {
   "attachments": {},
   "cell_type": "markdown",
   "metadata": {},
   "source": [
    "10) Encontrar el índice de la ciudad que en el punto 7 agregamos duplicada. ¿Se nota alguna particularidad?"
   ]
  },
  {
   "cell_type": "code",
   "execution_count": 34,
   "metadata": {},
   "outputs": [
    {
     "name": "stdout",
     "output_type": "stream",
     "text": [
      "2\n"
     ]
    }
   ],
   "source": [
    "print(ciudades.index(\"Bogotá\")) # Solo lista la primera coincidencia"
   ]
  },
  {
   "attachments": {},
   "cell_type": "markdown",
   "metadata": {},
   "source": [
    "11) ¿Qué pasa si se busca un elemento que no existe?"
   ]
  },
  {
   "cell_type": "code",
   "execution_count": 79,
   "metadata": {},
   "outputs": [],
   "source": [
    "# print(ciudades.index(\"Méjico\")) # Python devuelve ValueError"
   ]
  },
  {
   "attachments": {},
   "cell_type": "markdown",
   "metadata": {},
   "source": [
    "12) Eliminar un elemento de la lista"
   ]
  },
  {
   "cell_type": "code",
   "execution_count": 36,
   "metadata": {},
   "outputs": [
    {
     "name": "stdout",
     "output_type": "stream",
     "text": [
      "['Londres', 'Miami', 'Bogotá', 'Medellín', 'Bombay', 'Sidney', 'Madrid', 'Dallas', 'Bogotá', 'Brasil', 'Grecia', 'Suiza']\n"
     ]
    }
   ],
   "source": [
    "ciudades.remove(\"Moscú\")\n",
    "print(ciudades)"
   ]
  },
  {
   "attachments": {},
   "cell_type": "markdown",
   "metadata": {},
   "source": [
    "13) ¿Qué pasa si el elemento a eliminar no existe?"
   ]
  },
  {
   "cell_type": "code",
   "execution_count": 80,
   "metadata": {},
   "outputs": [],
   "source": [
    "# ciudades.remove(\"Quito\") # Python devuelve ValueError"
   ]
  },
  {
   "attachments": {},
   "cell_type": "markdown",
   "metadata": {},
   "source": [
    "14) Extraer el úlimo elemento de la lista, guardarlo en una variable e imprimirlo"
   ]
  },
  {
   "cell_type": "code",
   "execution_count": 74,
   "metadata": {},
   "outputs": [
    {
     "name": "stdout",
     "output_type": "stream",
     "text": [
      "Moscú\n"
     ]
    }
   ],
   "source": [
    "ult_ciudades = ciudades.pop()\n",
    "print(ult_ciudades)"
   ]
  },
  {
   "attachments": {},
   "cell_type": "markdown",
   "metadata": {},
   "source": [
    "15) Mostrar la lista multiplicada por 4"
   ]
  },
  {
   "cell_type": "code",
   "execution_count": 63,
   "metadata": {},
   "outputs": [
    {
     "name": "stdout",
     "output_type": "stream",
     "text": [
      "['Londres', 'Miami', 'Bogotá', 'Bombay', 'Sidney', 'Madrid', 'Londres', 'Miami', 'Bogotá', 'Bombay', 'Sidney', 'Madrid', 'Londres', 'Miami', 'Bogotá', 'Bombay', 'Sidney', 'Madrid', 'Londres', 'Miami', 'Bogotá', 'Bombay', 'Sidney', 'Madrid']\n"
     ]
    }
   ],
   "source": [
    "multp4 = ciudades * 4\n",
    "print (multp4)"
   ]
  },
  {
   "attachments": {},
   "cell_type": "markdown",
   "metadata": {},
   "source": [
    "16) Crear una tupla que contenga los números enteros del 1 al 20"
   ]
  },
  {
   "cell_type": "code",
   "execution_count": 64,
   "metadata": {},
   "outputs": [
    {
     "name": "stdout",
     "output_type": "stream",
     "text": [
      "(1, 2, 3, 4, 5, 6, 7, 8, 9, 10, 11, 12, 13, 14, 15, 16, 17, 18, 19, 20)\n"
     ]
    }
   ],
   "source": [
    "l1 = []\n",
    "for i in range (1,21):\n",
    "    l1.append(i)\n",
    "tp_l1 = tuple(l1)\n",
    "print(tp_l1)"
   ]
  },
  {
   "attachments": {},
   "cell_type": "markdown",
   "metadata": {},
   "source": [
    "17) Imprimir desde el índice 10 al 15 de la tupla"
   ]
  },
  {
   "cell_type": "code",
   "execution_count": 65,
   "metadata": {},
   "outputs": [
    {
     "name": "stdout",
     "output_type": "stream",
     "text": [
      "(11, 12, 13, 14, 15, 16)\n"
     ]
    }
   ],
   "source": [
    "print(tp_l1[10:16])"
   ]
  },
  {
   "attachments": {},
   "cell_type": "markdown",
   "metadata": {},
   "source": [
    "18) Evaluar si los números 20 y 30 están dentro de la tupla"
   ]
  },
  {
   "cell_type": "code",
   "execution_count": 75,
   "metadata": {},
   "outputs": [
    {
     "name": "stdout",
     "output_type": "stream",
     "text": [
      "El 20 hace parte de la tupla\n"
     ]
    }
   ],
   "source": [
    "for i1 in (tp_l1):\n",
    "    if i1 == 20:\n",
    "        print(\"El 20 hace parte de la tupla\")\n",
    "    elif i1 == 30:\n",
    "        print(\"El 30 hace parte de la tupla\")\n",
    "    else:\n",
    "        continue"
   ]
  },
  {
   "cell_type": "code",
   "execution_count": 67,
   "metadata": {},
   "outputs": [
    {
     "name": "stdout",
     "output_type": "stream",
     "text": [
      "True\n",
      "False\n"
     ]
    }
   ],
   "source": [
    "print(20 in tp_l1)\n",
    "print(30 in tp_l1)"
   ]
  },
  {
   "attachments": {},
   "cell_type": "markdown",
   "metadata": {},
   "source": [
    "19) Con la lista creada en el punto 1, validar la existencia del elemento 'París' y si no existe, agregarlo. Utilizar una variable e informar lo sucedido."
   ]
  },
  {
   "cell_type": "code",
   "execution_count": 44,
   "metadata": {},
   "outputs": [
    {
     "name": "stdout",
     "output_type": "stream",
     "text": [
      "Ya existe París\n",
      "['Londres', 'Miami', 'Bogotá', 'Bombay', 'París', 'Sidney', 'Madrid', 'Moscú']\n"
     ]
    }
   ],
   "source": [
    "ciudades1 = [\"Londres\", \"Miami\", \"Bogotá\", \"Bombay\", \"París\", \"Sidney\", \"Madrid\", \"Moscú\"]\n",
    "x = 0\n",
    "for i in ciudades1:\n",
    "    if i == \"París\":\n",
    "        x = 1\n",
    "        (print(\"Ya existe París\"))\n",
    "        break\n",
    "if x == 0:\n",
    "    ciudades1.append(\"París\")\n",
    "    (print(\"París ha sido agregada\"))\n",
    "print(ciudades1)"
   ]
  },
  {
   "cell_type": "code",
   "execution_count": 45,
   "metadata": {},
   "outputs": [
    {
     "name": "stdout",
     "output_type": "stream",
     "text": [
      "Ya existía en la lista la ciudad de :  París\n"
     ]
    }
   ],
   "source": [
    "ciudad19 = \"París\"\n",
    "if (not(ciudad19 in ciudades1)):\n",
    "    ciudades1.append(ciudad19)\n",
    "    print(\"Agregamos la ciudad : \", ciudad19)\n",
    "else:\n",
    "    print(\"Ya existía en la lista la ciudad de : \", ciudad19)\n"
   ]
  },
  {
   "attachments": {},
   "cell_type": "markdown",
   "metadata": {},
   "source": [
    "20) Mostrar la cantidad de veces que se encuentra un elemento específico dentro de la tupla y de la lista"
   ]
  },
  {
   "cell_type": "code",
   "execution_count": 46,
   "metadata": {},
   "outputs": [
    {
     "name": "stdout",
     "output_type": "stream",
     "text": [
      "1\n",
      "1\n"
     ]
    }
   ],
   "source": [
    "print(tp_l1.count(20))\n",
    "print(ciudades1.count(\"Bogotá\"))"
   ]
  },
  {
   "attachments": {},
   "cell_type": "markdown",
   "metadata": {},
   "source": [
    "21) Convertir la tupla en una lista"
   ]
  },
  {
   "cell_type": "code",
   "execution_count": 47,
   "metadata": {},
   "outputs": [
    {
     "name": "stdout",
     "output_type": "stream",
     "text": [
      "[3, 67, 34, 89, 0, 23]\n",
      "<class 'list'>\n"
     ]
    }
   ],
   "source": [
    "t21 = (3,67,34,89,0,23)\n",
    "l_t21 = list(t21)\n",
    "print(l_t21)\n",
    "print(type(l_t21))"
   ]
  },
  {
   "attachments": {},
   "cell_type": "markdown",
   "metadata": {},
   "source": [
    "22) Desempaquetar solo los primeros 3 elementos de la tupla en 3 variables"
   ]
  },
  {
   "cell_type": "code",
   "execution_count": 78,
   "metadata": {},
   "outputs": [
    {
     "name": "stdout",
     "output_type": "stream",
     "text": [
      "3\n",
      "67\n",
      "34\n"
     ]
    }
   ],
   "source": [
    "a, b, c, _, _, _ = t21\n",
    "print (a)\n",
    "print (b)\n",
    "print (c)\n"
   ]
  },
  {
   "attachments": {},
   "cell_type": "markdown",
   "metadata": {},
   "source": [
    "23) Crear un diccionario utilizando la lista crada en el punto 1, asignandole la clave \"ciudad\". Agregar tambien otras claves, como puede ser \"Pais\" y \"Continente\"."
   ]
  },
  {
   "cell_type": "code",
   "execution_count": 68,
   "metadata": {},
   "outputs": [
    {
     "name": "stdout",
     "output_type": "stream",
     "text": [
      "{'ciudad': ['Londres', 'Miami', 'Bogotá', 'Bombay', 'Sidney', 'Madrid', 'Moscú'], 'pais': ['India', 'Inglaterra', 'Argentina', 'Lituania', 'España', 'Rusia', 'Colombia'], 'continente': ['América', 'África', 'Europa', 'Oceanía']}\n"
     ]
    }
   ],
   "source": [
    "ciudades = [\"Londres\", \"Miami\", \"Bogotá\", \"Bombay\", \"Sidney\", \"Madrid\", \"Moscú\"]\n",
    "paises = [\"India\", \"Inglaterra\", \"Argentina\", \"Lituania\", \"España\", \"Rusia\", \"Colombia\"]\n",
    "continentes = [\"América\", \"África\", \"Europa\", \"Oceanía\"]\n",
    "dic_geo = {\"ciudad\" : ciudades, \"pais\" : paises, \"continente\" : continentes}\n",
    "print(dic_geo)"
   ]
  },
  {
   "attachments": {},
   "cell_type": "markdown",
   "metadata": {},
   "source": [
    "24) Imprimir las claves del diccionario"
   ]
  },
  {
   "cell_type": "code",
   "execution_count": 69,
   "metadata": {},
   "outputs": [
    {
     "name": "stdout",
     "output_type": "stream",
     "text": [
      "dict_keys(['ciudad', 'pais', 'continente'])\n"
     ]
    }
   ],
   "source": [
    "print(dic_geo.keys())"
   ]
  },
  {
   "attachments": {},
   "cell_type": "markdown",
   "metadata": {},
   "source": [
    "25) Imprimir las ciudades a través de su clave"
   ]
  },
  {
   "cell_type": "code",
   "execution_count": 70,
   "metadata": {},
   "outputs": [
    {
     "name": "stdout",
     "output_type": "stream",
     "text": [
      "['Londres', 'Miami', 'Bogotá', 'Bombay', 'Sidney', 'Madrid', 'Moscú']\n"
     ]
    }
   ],
   "source": [
    "for i,j in list(dic_geo.items()):\n",
    "    if i == \"ciudad\":\n",
    "        print(j)"
   ]
  },
  {
   "cell_type": "code",
   "execution_count": 73,
   "metadata": {},
   "outputs": [
    {
     "name": "stdout",
     "output_type": "stream",
     "text": [
      "['Londres', 'Miami', 'Bogotá', 'Bombay', 'Sidney', 'Madrid', 'Moscú']\n"
     ]
    }
   ],
   "source": [
    "print(dic_geo[\"ciudad\"])"
   ]
  }
 ],
 "metadata": {
  "interpreter": {
   "hash": "c85384e4cb51c8b72350f3a8712cc8351fdc3955e32a27f9b60c6242ab125f01"
  },
  "kernelspec": {
   "display_name": "Python 3 (ipykernel)",
   "language": "python",
   "name": "python3"
  },
  "language_info": {
   "codemirror_mode": {
    "name": "ipython",
    "version": 3
   },
   "file_extension": ".py",
   "mimetype": "text/x-python",
   "name": "python",
   "nbconvert_exporter": "python",
   "pygments_lexer": "ipython3",
   "version": "3.11.4"
  }
 },
 "nbformat": 4,
 "nbformat_minor": 4
}
