{
 "cells": [
  {
   "cell_type": "code",
   "execution_count": 2,
   "metadata": {},
   "outputs": [
    {
     "name": "stdout",
     "output_type": "stream",
     "text": [
      "['petro', 'jirafa', 'perro', 'buho', 'aguila', 'ballena', 'zorro', 'jabali', 'foca', ['oso', 'zorro'], 'araña', 'mosca']\n",
      "['petro', 'jirafa', 'perro', 'buho', 'aguila']\n",
      "11\n",
      "['petro', 'jirafa', 'perro', 'buho', 'aguila', 'ballena', 'jabali', 'foca', 'araña']\n",
      "['oso', 'zorro']\n",
      "['aguila', 'araña', 'ballena', 'buho', 'foca', 'jabali', 'jirafa', 'mosca', 'oso', 'perro', 'petro', 'zorro']\n",
      "['zorro', 'petro', 'perro', 'oso', 'mosca', 'jirafa', 'jabali', 'foca', 'buho', 'ballena', 'araña', 'aguila']\n"
     ]
    },
    {
     "data": {
      "text/plain": [
       "0"
      ]
     },
     "execution_count": 2,
     "metadata": {},
     "output_type": "execute_result"
    }
   ],
   "source": [
    "# LISTAS\n",
    "\n",
    "lst = [\"gato\", \"perro\", \"buho\", \"aguila\", \"ballena\", \"zorro\", \"jabali\", \"foca\"]\n",
    "lst[0] = \"jirafa\"\n",
    "lst.append([\"oso\", \"zorro\"])\n",
    "lst.insert(0, \"petro\")\n",
    "lst.extend((\"araña\", \"mosca\")) # saca los elementos de la lista/tupla (los corchetes) y los adiciona como elementos al final\n",
    "print(lst)\n",
    "print(lst[0:5])\n",
    "lst.remove(\"zorro\")\n",
    "print(len(lst))\n",
    "lista_inmersa = lst.pop(8)\n",
    "ult = lst.pop()\n",
    "print(lst)\n",
    "print(lista_inmersa)\n",
    "lst.extend(lista_inmersa)\n",
    "lst.append(ult)\n",
    "lst.sort()\n",
    "print(lst)\n",
    "lst.sort(reverse=True)\n",
    "print(lst)\n",
    "lst.index(\"zorro\")"
   ]
  },
  {
   "cell_type": "code",
   "execution_count": null,
   "metadata": {},
   "outputs": [],
   "source": [
    "# TUPLAS\n",
    "tpl1 = (10, 5, 6, 13, 5, 10)\n",
    "print(type(tpl1))\n",
    "tpl2 = (\"Ene\", \"Feb\", \"Mar\", \"Abr\", \"May\", \"Jun\")\n",
    "print(type(tpl2))\n",
    "print(tpl2)\n",
    "print(tpl2[1:5])\n",
    "print(\"Feb\" in tpl2)\n",
    "print(tpl1.count(5))\n",
    "print(tpl2.count(\"Jun\"))\n",
    "#tpl1[1] = 3"
   ]
  },
  {
   "cell_type": "code",
   "execution_count": null,
   "metadata": {},
   "outputs": [],
   "source": [
    "# TUPLAS 2\n",
    "tpl3 = (\"Ene\", \"Feb\", \"Mar\", \"Abr\", \"May\", \"Jun\")\n",
    "print(type(tpl3))\n",
    "A1998, B1999, C2000, D2001, E2002, F2003 = tpl3\n",
    "print(A1998, C2000)\n",
    "print(tpl3)\n",
    "tpl4 = (\"mantra\", 67, 53, \"carreta\")\n",
    "tpl4_0 = tpl4[0]\n",
    "tpl4_1 = tpl4[1]\n",
    "tpl4_3 = tpl4[3]\n",
    "print (tpl4_0)\n",
    "print (tpl4_1)\n",
    "print (tpl4_3)\n"
   ]
  },
  {
   "cell_type": "code",
   "execution_count": null,
   "metadata": {},
   "outputs": [],
   "source": [
    "tpl4_0,tpl4_1,_,tpl4_3 = tpl4\n",
    "print(tpl4_3)\n",
    "lst_tpl4 = list(tpl4)\n",
    "print(lst_tpl4)\n",
    "ct_tpl5 = tuple(lst_tpl4)\n",
    "print(ct_tpl5)\n",
    "type(ct_tpl5)"
   ]
  },
  {
   "cell_type": "code",
   "execution_count": null,
   "metadata": {},
   "outputs": [],
   "source": [
    "# DICCIONARIOS 1\n",
    "\n",
    "pri_dic = dict()\n",
    "pri_dic[\"Jairo\"] = 53\n",
    "pri_dic[\"Eli\"] = 40\n",
    "pri_dic[\"Fefu\"] = 23\n",
    "pri_dic[\"Pami\"] = 22\n",
    "print(pri_dic)"
   ]
  },
  {
   "cell_type": "code",
   "execution_count": 1,
   "metadata": {},
   "outputs": [
    {
     "name": "stdout",
     "output_type": "stream",
     "text": [
      "{'cprimarios': ['rojo', 'azul', 'amarillo'], 'csecundarios': ['naranja', 'verde'], 'clave 3': 10, 'clave 4': False, 'clave 5': 'tres'}\n",
      "{'cprimarios': ['rojo', 'azul', 'amarillo'], 'csecundarios': ['naranja', 'verde'], 'clave 3': 10, 'clave 4': False}\n",
      "{'Colombia': 'BOG', 'Brasil': 'BA', 'Mexico': 'BR', 'Colombias': {'provincias': ['Tolima', 'Cesar', 'Caldas', 'Choco']}}\n",
      "dict_keys(['Colombia', 'Brasil', 'Mexico', 'Colombias'])\n",
      "dict_values(['BOG', 'BA', 'BR', {'provincias': ['Tolima', 'Cesar', 'Caldas', 'Choco']}])\n",
      "4\n"
     ]
    }
   ],
   "source": [
    "# DICCIONARIOS 2\n",
    "\n",
    "seg_dic = {\"cprimarios\":[\"rojo\", \"azul\", \"amarillo\"], \"csecundarios\":[\"naranja\", \"verde\"], \"clave 3\":10, \"clave 4\":False, \"clave 5\":\"tres\"}\n",
    "print(seg_dic)\n",
    "del seg_dic[\"clave 5\"]\n",
    "print(seg_dic)\n",
    "tpl6 = (\"Colombia\", \"Brasil\", \"Mexico\", \"Colombias\")\n",
    "ter_dic = {tpl6[0]:\"BOG\", tpl6[1]:\"BA\", tpl6[2]:\"BR\", tpl6[3]:{\"provincias\":[\"Tolima\",\"Cesar\",\"Caldas\",\"Choco\"]}}\n",
    "print(ter_dic)\n",
    "print(ter_dic.keys())\n",
    "print(ter_dic.values())\n",
    "print(len(ter_dic))"
   ]
  }
 ],
 "metadata": {
  "kernelspec": {
   "display_name": "Python 3",
   "language": "python",
   "name": "python3"
  },
  "language_info": {
   "codemirror_mode": {
    "name": "ipython",
    "version": 3
   },
   "file_extension": ".py",
   "mimetype": "text/x-python",
   "name": "python",
   "nbconvert_exporter": "python",
   "pygments_lexer": "ipython3",
   "version": "3.11.4"
  },
  "orig_nbformat": 4
 },
 "nbformat": 4,
 "nbformat_minor": 2
}
