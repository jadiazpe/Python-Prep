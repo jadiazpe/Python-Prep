{
 "cells": [
  {
   "cell_type": "code",
   "execution_count": null,
   "metadata": {},
   "outputs": [],
   "source": [
    "# Iterando con WHILE\n",
    "lst1 = [4,7,8,9,12,13]\n",
    "x1 = 0\n",
    "while x1<len(lst1):\n",
    "    e_lst1=lst1[x1]\n",
    "    print(e_lst1)\n",
    "    x1 += 1"
   ]
  },
  {
   "cell_type": "code",
   "execution_count": null,
   "metadata": {},
   "outputs": [],
   "source": [
    "# Iterando con FOR\n",
    "\n",
    "lst2 = [4,7,8,9,12,13,\"carro\"]\n",
    "#lst2.sort()\n",
    "for x2 in lst2:\n",
    "    print(x2, end=\" \")\n",
    "for x3 in lst2[0:3]:\n",
    "    print(x3, end=\" \")\n",
    "\n",
    "\n"
   ]
  },
  {
   "cell_type": "code",
   "execution_count": null,
   "metadata": {},
   "outputs": [],
   "source": [
    "# Iterando con FOR anidados\n",
    "\n",
    "lst2 = [4,7,8,9,12,13,\"carro\", \"jairo\"]\n",
    "lst2_str = [] \n",
    "lst2_cadena = []\n",
    "lst2_num = []\n",
    "for x4 in (lst2):\n",
    "    if isinstance(x4, str):\n",
    "        lst2_str.append(x4)\n",
    "        for x5 in (x4):\n",
    "            lst2_cadena.append(x5)\n",
    "    else:\n",
    "        lst2_num.append(x4)\n",
    "print(lst2_str)\n",
    "print(lst2_cadena)\n",
    "print(lst2_num)"
   ]
  },
  {
   "cell_type": "code",
   "execution_count": null,
   "metadata": {},
   "outputs": [],
   "source": [
    "# LIST() SUM() JOIN()\n",
    "\n",
    "print(list(\"fefu\"))\n",
    "s = sum ([1,5,7,8])\n",
    "print(s)\n",
    "lst3 = [4,7,8,9,12,13]\n",
    "lst3_map = list(map(str, lst3))\n",
    "j = \"\".join(lst3_map)\n",
    "print(j)\n",
    "print(type(j))\n",
    "j_lst3_int = [int(x6) for x6 in j] # ---> Utilizando comprensión de listas\n",
    "print(j_lst3_int)"
   ]
  },
  {
   "cell_type": "code",
   "execution_count": null,
   "metadata": {},
   "outputs": [],
   "source": [
    "# Iterables\n",
    "from collections.abc import Iterable\n",
    "print(isinstance(j, Iterable))"
   ]
  },
  {
   "cell_type": "code",
   "execution_count": null,
   "metadata": {},
   "outputs": [],
   "source": [
    "# Iterables 1\n",
    "lst4 = [4,7,8,9,12,13,\"carro\", \"jairo\", \"pollini\", 3, 45, \"verano\", \"32\", 10, \"tierra\"]\n",
    "print(len(lst4))\n",
    "marca_list4 = iter(lst4[12:])"
   ]
  },
  {
   "cell_type": "code",
   "execution_count": null,
   "metadata": {},
   "outputs": [],
   "source": [
    "print(next(marca_list4))"
   ]
  },
  {
   "cell_type": "code",
   "execution_count": null,
   "metadata": {},
   "outputs": [],
   "source": [
    "# ZIP --> Objeto\n",
    "lst5 = [[4,7,8],9 ,\"carro\", \"jairo\", \"pollini\"]\n",
    "lst6 = [\"Colombia\", \"Perú\", \"Argentina\", \"Bolivia\", \"Pánama\"]\n",
    "lst7 = [\"jairo\", \"pollini\", 3, 45, \"verano\", \"32\", 10, \"tierra\"]\n",
    "combina = zip(lst5, lst6, lst7)\n",
    "print(type(combina))\n",
    "for x7 in combina:\n",
    "    print(x7, end=\" \")"
   ]
  },
  {
   "cell_type": "code",
   "execution_count": null,
   "metadata": {},
   "outputs": [],
   "source": [
    "# COMPRENSION DE LISTAS --> COMPRENSIÓN Lista = [expresión for elemento in iterable if condición]\n",
    "frase = \"Todos necesitamos en algún momento de nuestra vida palabras de motivación que nos den el empujón que nos falta para arriesgarnos\"\n",
    "lector1 = [x7 for x7 in frase if x7 == \" \"]\n",
    "lector2 = []\n",
    "[lector2.append(x8) for x8 in frase if x8 == \"a\"]\n",
    "print(lector1)\n",
    "print(len(lector1))\n",
    "print(lector2)\n",
    "print(len(lector2))"
   ]
  },
  {
   "cell_type": "code",
   "execution_count": null,
   "metadata": {},
   "outputs": [],
   "source": [
    "# Recorrer un string\n",
    "import re\n",
    "frase1= \"¡Todos necesitamos en algún momento de nuestra vida palabras de motivación que nos den el empujón!*\"\n",
    "frase2 = re.sub(\"[a,T,ó,*]\", \" \", frase1)\n",
    "print(frase2)"
   ]
  },
  {
   "cell_type": "code",
   "execution_count": null,
   "metadata": {},
   "outputs": [],
   "source": [
    "fib = []\n",
    "fib.extend([0 ,1])\n",
    "n = 2\n",
    "while n <= 30:\n",
    "    fib.append(fib[n-1]+fib[n-2])\n",
    "    n += 1\n",
    "print(fib)    "
   ]
  },
  {
   "cell_type": "code",
   "execution_count": null,
   "metadata": {},
   "outputs": [],
   "source": [
    "cadenax = 'Hola Mundo. Esto es una práctica del lenguaje de programación Python'\n",
    "lst_c = list(cadenax)\n",
    "print(lst_c)\n",
    "for i,c in enumerate(lst_c):\n",
    "        if c == \"n\":\n",
    "            print(\"letra 'n' en la posición: \", i)\n"
   ]
  },
  {
   "cell_type": "code",
   "execution_count": null,
   "metadata": {},
   "outputs": [],
   "source": [
    "cadenax = 'Hola Mundo. Esto es una práctica del lenguaje de programación Python'\n",
    "#lst_c = list(cadenax)\n",
    "#print(lst_c)\n",
    "for i,c in enumerate(cadenax):\n",
    "        if c == \"n\":\n",
    "            print(\"letra 'n' en la posición: \", i)\n"
   ]
  },
  {
   "cell_type": "code",
   "execution_count": null,
   "metadata": {},
   "outputs": [],
   "source": [
    "lis = [[1,2,3,4],'rojo','verde',[True,False,False],['uno','dos','tres']]\n",
    "for idx,elm in enumerate(lis):\n",
    "    if type(elm) != list:\n",
    "        lis[idx] = [elm]        \n",
    "print(lis)"
   ]
  },
  {
   "cell_type": "code",
   "execution_count": null,
   "metadata": {},
   "outputs": [],
   "source": [
    "t = [4, 8,10]\n",
    "tr = [\"m\", \"h\", \"x\", \"o\", \"p\"]\n",
    "v = [87, 34]\n",
    "zi = zip(t, tr)\n",
    "print(list(zi))\n",
    "zi1 = zip(t, tr, v)\n",
    "print(list(zi1))"
   ]
  },
  {
   "cell_type": "code",
   "execution_count": null,
   "metadata": {},
   "outputs": [],
   "source": [
    "tv = t + v\n",
    "print(tv)\n",
    "zii = zip(tr, tv)\n",
    "print(list(zii))"
   ]
  },
  {
   "cell_type": "code",
   "execution_count": null,
   "metadata": {},
   "outputs": [],
   "source": [
    "a=[1,2,3]\n",
    "b=[4,5,6]\n",
    "c=[7,8,9]\n",
    "d = [a] + [b] + c\n",
    "print(d)"
   ]
  },
  {
   "cell_type": "code",
   "execution_count": null,
   "metadata": {},
   "outputs": [],
   "source": [
    "lst1 = [1,2,3]\n",
    "lst2 = ['a','b','c']\n",
    "lst3 = ['*','#','+']\n",
    "lst4 = [4,5,6]\n",
    "z3 = zip(lst1, lst2, lst3, lst4)\n",
    "z4 = list(zip(lst1, lst2, lst3, lst4))\n",
    "print(list(z3))\n",
    "for x in list(zip(lst1, lst2, lst3, lst4)):\n",
    "    print(x)\n",
    "\n",
    "print(list(z4))\n",
    "for x in z4:\n",
    "    print(x)"
   ]
  },
  {
   "cell_type": "code",
   "execution_count": null,
   "metadata": {},
   "outputs": [],
   "source": [
    "lista = [1,2,5,7,8,10,13,14,15,17,20]\n",
    "for n in range(1, 20):\n",
    "    print(n, end=\" \")\n",
    "    if n not in (lista):\n",
    "        lista.insert(n-1,n)\n",
    "        continue\n",
    "print(\"\\n\", lista, end=\" \")"
   ]
  },
  {
   "cell_type": "code",
   "execution_count": 14,
   "metadata": {},
   "outputs": [],
   "source": [
    "def repite(lst):\n",
    "    lst1 = []\n",
    "    lst_rep = dict()\n",
    "    for i in lst:\n",
    "        lst_rep[i] = lst.count(i)\n",
    "        lst_rep_orden = sorted(lst_rep.items(), key=lambda item:item[1], reverse=True)\n",
    "    #print(lst_rep_orden)\n",
    "    #print(lst_rep_orden[0])\n",
    "    lst1.extend(lst_rep_orden[0])\n",
    "    #print(lst1)\n",
    "    repetido = lst1[0]\n",
    "    frecuencia = lst1[1]\n",
    "    print(repetido, frecuencia)\n",
    "    return repetido, frecuencia"
   ]
  },
  {
   "cell_type": "code",
   "execution_count": 15,
   "metadata": {},
   "outputs": [
    {
     "name": "stdout",
     "output_type": "stream",
     "text": [
      "1 4\n"
     ]
    },
    {
     "data": {
      "text/plain": [
       "(1, 4)"
      ]
     },
     "execution_count": 15,
     "metadata": {},
     "output_type": "execute_result"
    }
   ],
   "source": [
    "lst = [5,1,1,1,5,6,3,3,2,4,4,4,1]\n",
    "repite(lst)"
   ]
  }
 ],
 "metadata": {
  "kernelspec": {
   "display_name": "Python 3",
   "language": "python",
   "name": "python3"
  },
  "language_info": {
   "codemirror_mode": {
    "name": "ipython",
    "version": 3
   },
   "file_extension": ".py",
   "mimetype": "text/x-python",
   "name": "python",
   "nbconvert_exporter": "python",
   "pygments_lexer": "ipython3",
   "version": "3.11.5"
  },
  "orig_nbformat": 4
 },
 "nbformat": 4,
 "nbformat_minor": 2
}
