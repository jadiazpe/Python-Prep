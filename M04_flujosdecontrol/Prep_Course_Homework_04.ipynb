{
 "cells": [
  {
   "attachments": {},
   "cell_type": "markdown",
   "metadata": {},
   "source": [
    "## Flujos de Control"
   ]
  },
  {
   "attachments": {},
   "cell_type": "markdown",
   "metadata": {},
   "source": [
    "1) Crear una variable que contenga un elemento del conjunto de números enteros y luego imprimir por pantalla si es mayor o menor a cero"
   ]
  },
  {
   "cell_type": "code",
   "execution_count": null,
   "metadata": {},
   "outputs": [],
   "source": [
    "n1 = 0\n",
    "if n1 < 0:\n",
    "    print(n1, \"es un número menor que cero\")\n",
    "elif n1 == 0:\n",
    "    print(n1, \"es igual a cero\")\n",
    "else:\n",
    "    print(n1, \"es un número mayor que cero\")"
   ]
  },
  {
   "attachments": {},
   "cell_type": "markdown",
   "metadata": {},
   "source": [
    "2) Crear dos variables y un condicional que informe si son del mismo tipo de dato"
   ]
  },
  {
   "cell_type": "code",
   "execution_count": null,
   "metadata": {},
   "outputs": [],
   "source": [
    "n2 = \"jairo\"\n",
    "n21 = 3.45\n",
    "if type(n2) == type(n21):\n",
    "    print(n2, type(n2), \"y\", n21, type(n21), \"pertenecen al mismo tipo de datos\")\n",
    "else:\n",
    "    print(n2, type(n2), \"y\", n21, type(n21), \"NO pertencen al mismo tipo de datos\")"
   ]
  },
  {
   "attachments": {},
   "cell_type": "markdown",
   "metadata": {},
   "source": [
    "3) Para los valores enteros del 1 al 20, imprimir por pantalla si es par o impar"
   ]
  },
  {
   "cell_type": "code",
   "execution_count": null,
   "metadata": {},
   "outputs": [],
   "source": [
    "for i in range (1,21):\n",
    "    if (i % 2) == 0:\n",
    "        print(\"El número\", i, \"es PAR\")\n",
    "    else:\n",
    "        print(\"El número\", i, \"es IMPAR\")"
   ]
  },
  {
   "attachments": {},
   "cell_type": "markdown",
   "metadata": {},
   "source": [
    "4) En un ciclo for mostrar para los valores entre 0 y 5 el resultado de elevarlo a la potencia igual a 3"
   ]
  },
  {
   "cell_type": "code",
   "execution_count": null,
   "metadata": {},
   "outputs": [],
   "source": [
    "for i in range (0,6):\n",
    "    n4 = i ** 3\n",
    "    print(i, \"al cubo es igual a\", n4)"
   ]
  },
  {
   "attachments": {},
   "cell_type": "markdown",
   "metadata": {},
   "source": [
    "5) Crear una variable que contenga un número entero y realizar un ciclo for la misma cantidad de ciclos"
   ]
  },
  {
   "cell_type": "code",
   "execution_count": null,
   "metadata": {},
   "outputs": [],
   "source": [
    "n5 = 4\n",
    "for i in range (0, n5):\n",
    "    print(\"En el número\", i,\"se completa el ciclo\", (i+1))"
   ]
  },
  {
   "attachments": {},
   "cell_type": "markdown",
   "metadata": {},
   "source": [
    "6) Utilizar un ciclo while para realizar el factorial de un número guardado en una variable, sólo si la variable contiene un número entero mayor a 0"
   ]
  },
  {
   "cell_type": "code",
   "execution_count": null,
   "metadata": {},
   "outputs": [],
   "source": [
    "n6 = 5\n",
    "print (\"El número ingresado es\", n6)\n",
    "if type(n6) == int and n6 > 0:\n",
    "    factor = n6\n",
    "    while n6 > 1:\n",
    "        factor = factor * (n6-1)\n",
    "        n6 -= 1\n",
    "    print (\"...su factorial es igual a\", factor)\n",
    "\n",
    "else:\n",
    "    print (\"Error: el número ingresado NO es un entero mayor a cero\")"
   ]
  },
  {
   "attachments": {},
   "cell_type": "markdown",
   "metadata": {},
   "source": [
    "7) Crear un ciclo for dentro de un ciclo while"
   ]
  },
  {
   "cell_type": "code",
   "execution_count": null,
   "metadata": {},
   "outputs": [],
   "source": [
    "str7 = '*Peligro*'\n",
    "n7 = len(str7)\n",
    "while n7 < (2*len(str7)): # While condition evalutes when 'n7' is equal to 'n7 * 2' \n",
    "    for i in str7:        # \"For loop\" iterates str7 (string) and prints the warning as many times as elements in string: *Peligro*\n",
    "        print (i, end=\"\")\n",
    "    n7 += 1               # Correct indentation of n7 counter is relevant \n",
    "       "
   ]
  },
  {
   "attachments": {},
   "cell_type": "markdown",
   "metadata": {},
   "source": [
    "8) Crear un ciclo while dentro de un ciclo for"
   ]
  },
  {
   "cell_type": "code",
   "execution_count": null,
   "metadata": {},
   "outputs": [],
   "source": [
    "n8 = (\"carro\", 560, 876, \"avión\", \"tren\", 123, \"barco\", 7564)\n",
    "for i in n8:\n",
    "    while type(i) == str:\n",
    "        print(f'Este string es un {i}')\n",
    "        break\n",
    "    else:\n",
    "        print(f'Este número es el {i}')"
   ]
  },
  {
   "attachments": {},
   "cell_type": "markdown",
   "metadata": {},
   "source": [
    "9) Imprimir los números primos existentes entre 0 y 30"
   ]
  },
  {
   "cell_type": "code",
   "execution_count": null,
   "metadata": {},
   "outputs": [],
   "source": [
    "n_max = 30\n",
    "n_min = 0\n",
    "n_primo = True\n",
    "while (n_min <= n_max) and (n_max >= 2): # Bucle decreciente asegurando que el extremo menor \"n_min\" sea mayor o igual 2\n",
    "    for i in range(2, n_max): # Iteramos haciendo que los divisores estén entre 2 y el número máximo \"n_max\"\n",
    "        if (n_max % i) == 0:\n",
    "            n_primo = False\n",
    "    if n_primo: # Condición de primo verdadero, es decir \"n_max % i\" diferente de 0\n",
    "        print (n_max, end=\" \")\n",
    "    else:\n",
    "        n_primo = True # En caso de primo falso, es decir \"n_max % 1\" igual a cero. Se devuelve True a primo para continuar el bucle       \n",
    "    n_max -= 1 # Decrecimiento del bucle"
   ]
  },
  {
   "attachments": {},
   "cell_type": "markdown",
   "metadata": {},
   "source": [
    "10) ¿Se puede mejorar el proceso del punto 9? Utilizar las sentencias break y/ó continue para tal fin"
   ]
  },
  {
   "cell_type": "code",
   "execution_count": null,
   "metadata": {},
   "outputs": [],
   "source": [
    "n_max = 30\n",
    "n_min = 0\n",
    "n_primo = True\n",
    "while (n_min <= n_max) and (n_max >= 2): # Bucle decreciente asegurando que el extremo menor sea mayor o igual 2\n",
    "    for i in range(2, n_max): # Iteramos haciendo que los divisores estén entre 2 y el número máximo\n",
    "        if (n_max % i) == 0:\n",
    "            n_primo = False\n",
    "            break # Break acelera rompiendo el loop con el 1er ciclo que cumpla la condición (n_max % i) == 0\n",
    "    if n_primo: # Condición de primo verdadero, es decir \"n_max % i\" diferente de 0\n",
    "        print (n_max, end=\" \")\n",
    "    else:\n",
    "        n_primo = True # En caso de primo falso, es decir \"n_max % 1\" igual a cero. Se devuelve True a primo para continuar el bucle       \n",
    "    n_max -= 1 # Decrecimiento en \"1\" del bucle"
   ]
  },
  {
   "attachments": {},
   "cell_type": "markdown",
   "metadata": {},
   "source": [
    "11) En los puntos 9 y 10, se diseño un código que encuentra números primos y además se lo optimizó. ¿Es posible saber en qué medida se optimizó?"
   ]
  },
  {
   "cell_type": "code",
   "execution_count": null,
   "metadata": {},
   "outputs": [],
   "source": [
    "n_max = 30\n",
    "n_min = 0\n",
    "cont_min = 0\n",
    "n_primo = True\n",
    "while (n_min <= n_max) and (n_max >= 2): # Bucle decreciente asegurando que el extremo menor sea mayor o igual 2\n",
    "    for i in range(2, n_max): # Iteramos haciendo que los divisores estén entre 2 y el número máximo\n",
    "        cont_min += 1 # Agregamos contador de ciclos \n",
    "        if (n_max % i) == 0:\n",
    "            n_primo = False          \n",
    "    if n_primo: # Condición de primo verdadero, es decir \"n_max % i\" diferente de 0\n",
    "        print (n_max, end=\" | \")\n",
    "    else:\n",
    "        n_primo = True # En caso de primo falso, es decir \"n_max % 1\" igual a cero. Se devuelve True a primo para continuar el bucle       \n",
    "    n_max -= 1 # Decrecimiento del bucle\n",
    "print(\"El total de ciclos registrados es =\", cont_min)"
   ]
  },
  {
   "cell_type": "code",
   "execution_count": null,
   "metadata": {},
   "outputs": [],
   "source": [
    "n_max = 30\n",
    "n_min = 0\n",
    "cont_min2 = 0\n",
    "n_primo = True\n",
    "while (n_min <= n_max) and (n_max >= 2): # Bucle decreciente asegurando que el extremo menor sea mayor o igual 2\n",
    "    for i in range(2, n_max): # Iteramos haciendo que los divisores estén entre 2 y el número máximo\n",
    "        cont_min2 = cont_min2 + 1 # Agregamos contador de ciclos \n",
    "        if (n_max % i) == 0:\n",
    "            n_primo = False\n",
    "            break\n",
    "    if n_primo: # Condición de primo verdadero, es decir \"n_max % i\" diferente de 0\n",
    "        print (n_max, end=\" | \")\n",
    "    else:\n",
    "        n_primo = True # En caso de primo falso, es decir \"n_max % 1\" igual a cero. Se devuelve True a primo para continuar el bucle       \n",
    "    n_max -= 1 # Decrecimiento del bucle\n",
    "print(\"El total de ciclos registrados es =\", cont_min2)\n",
    "opt = (1 - (cont_min2 / cont_min)) * 100\n",
    "print(\"El porcentaje de optimización fue del =\", round(opt, 2), \"%\")"
   ]
  },
  {
   "attachments": {},
   "cell_type": "markdown",
   "metadata": {},
   "source": [
    "12) Aplicando continue, armar un ciclo while que solo imprima los valores divisibles por 12, dentro del rango de números de 100 a 300"
   ]
  },
  {
   "cell_type": "code",
   "execution_count": null,
   "metadata": {},
   "outputs": [],
   "source": [
    "nmx = 300\n",
    "nmm = 100\n",
    "print(\"Los números divisibles por 12 en el rango dado son:\")\n",
    "while nmm <= nmx:\n",
    "    if (nmm % 12) == 0:\n",
    "        print(nmm, end=\" \") \n",
    "    nmm += 1\n",
    "    if (nmm % 12) != 0:\n",
    "        continue"
   ]
  },
  {
   "attachments": {},
   "cell_type": "markdown",
   "metadata": {},
   "source": [
    "13) Utilizar la función **input()** que permite hacer ingresos por teclado, para encontrar números primos y dar la opción al usario de buscar el siguiente"
   ]
  },
  {
   "cell_type": "code",
   "execution_count": null,
   "metadata": {},
   "outputs": [],
   "source": [
    "n_ini = 2\n",
    "n_fin = 13\n",
    "continua = 1\n",
    "n_primo = True\n",
    "print(\"El rango a analizar es\", \"[\",n_ini,\",\" ,n_fin,\"]\", \"\\n\", \"\\n\")\n",
    "while (n_ini <= n_fin):\n",
    "    for i in range(2, n_ini): \n",
    "        if (n_ini % i) == 0:\n",
    "            n_primo = False\n",
    "    if n_primo:\n",
    "        print (\"El PRIMO que sigue es:\", n_ini)\n",
    "        while continua != 0:\n",
    "            continua = int(input(\"Para conocer el próximo número PRIMO, digite '0' para continuar:\"))\n",
    "        else:\n",
    "            print(\"---\")     \n",
    "    else:\n",
    "        n_primo = True\n",
    "    continua = 1\n",
    "    n_ini += 1  \n",
    "print(\"Fin\")"
   ]
  },
  {
   "attachments": {},
   "cell_type": "markdown",
   "metadata": {},
   "source": [
    "14) Crear un ciclo while que encuentre dentro del rango de 100 a 300 el primer número divisible por 3 y además múltiplo de 6"
   ]
  },
  {
   "cell_type": "code",
   "execution_count": null,
   "metadata": {},
   "outputs": [],
   "source": [
    "n14_max = 300\n",
    "n14_ini = 99\n",
    "while n14_ini <= n14_max:\n",
    "    divisible1 = n14_ini % 3\n",
    "    divisible2 = n14_ini % 6\n",
    "    if divisible1 == 0 and divisible2 == 0:\n",
    "        print(\"El 1er número divisible por 3 y múltiplo de 6 en el rango es:\", n14_ini)\n",
    "        break\n",
    "    n14_ini += 1"
   ]
  }
 ],
 "metadata": {
  "interpreter": {
   "hash": "c85384e4cb51c8b72350f3a8712cc8351fdc3955e32a27f9b60c6242ab125f01"
  },
  "kernelspec": {
   "display_name": "Python 3 (ipykernel)",
   "language": "python",
   "name": "python3"
  },
  "language_info": {
   "codemirror_mode": {
    "name": "ipython",
    "version": 3
   },
   "file_extension": ".py",
   "mimetype": "text/x-python",
   "name": "python",
   "nbconvert_exporter": "python",
   "pygments_lexer": "ipython3",
   "version": "3.11.5"
  }
 },
 "nbformat": 4,
 "nbformat_minor": 4
}
