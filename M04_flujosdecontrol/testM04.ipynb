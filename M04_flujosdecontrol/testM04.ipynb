{
 "cells": [
  {
   "cell_type": "code",
   "execution_count": null,
   "metadata": {},
   "outputs": [],
   "source": [
    "n1 = [7,5,6,3,4]\n",
    "for i in n1:\n",
    "    ope = i * 3\n",
    "    print(ope)\n",
    "\n",
    "print (n1[:5])\n",
    "n_str = ''.join(map(str, n1))\n",
    "print (n_str)"
   ]
  },
  {
   "cell_type": "code",
   "execution_count": null,
   "metadata": {},
   "outputs": [],
   "source": [
    "for i in range (2,9,1):\n",
    "    print(i)"
   ]
  },
  {
   "cell_type": "code",
   "execution_count": null,
   "metadata": {},
   "outputs": [],
   "source": [
    "s1 = \"python\"\n",
    "for x in s1:\n",
    "    if x == \"h\":\n",
    "        print(\"Llegamos a h\")\n",
    "        break\n",
    "    print(x)"
   ]
  },
  {
   "cell_type": "code",
   "execution_count": null,
   "metadata": {},
   "outputs": [],
   "source": [
    "n3 = 16\n",
    "while True:\n",
    "    n3 -= 1\n",
    "    print (n3)\n",
    "    if n3 == 10:\n",
    "        break\n",
    "print(\"Fin\")"
   ]
  },
  {
   "cell_type": "code",
   "execution_count": null,
   "metadata": {},
   "outputs": [],
   "source": [
    "s2 = \"python\"\n",
    "for i in (s2):\n",
    "    if i == \"p\":\n",
    "        continue\n",
    "    print(i)"
   ]
  },
  {
   "cell_type": "code",
   "execution_count": null,
   "metadata": {},
   "outputs": [],
   "source": [
    "n_max = 11\n",
    "n_min = 0\n",
    "cont_min = 0\n",
    "n_primo = True\n",
    "while (n_min <= n_max) and (n_max >= 2): # Bucle decreciente asegurando que el extremo menor sea mayor o igual 2\n",
    "    for i in range(2, n_max): # Iteramos haciendo que los divisores estén entre 2 y el número máximo\n",
    "        cont_min += 1 # Agregamos contador de ciclos \n",
    "        if (n_max % i) == 0:\n",
    "            n_primo = False          \n",
    "    if n_primo: # Condición de primo verdadero, es decir \"n_max % i\" diferente de 0\n",
    "        print (n_max, end=\" | \")\n",
    "    else:\n",
    "        n_primo = True # En caso de primo falso, es decir \"n_max % 1\" igual a cero. Se devuelve True a primo para continuar el bucle       \n",
    "    n_max -= 1 # Decrecimiento del bucle\n",
    "print(\"El total de ciclos registrados es =\", cont_min)"
   ]
  },
  {
   "cell_type": "code",
   "execution_count": null,
   "metadata": {},
   "outputs": [],
   "source": [
    "n_max = 11\n",
    "n_min = 0\n",
    "cont_min = 0\n",
    "n_primo = True\n",
    "while (n_min <= n_max) and (n_max >= 2): # Bucle decreciente asegurando que el extremo menor sea mayor o igual 2\n",
    "    for i in range(2, n_max): # Iteramos haciendo que los divisores estén entre 2 y el número máximo\n",
    "        cont_min = cont_min + 1 # Agregamos contador de ciclos \n",
    "        if (n_max % i) == 0:\n",
    "            n_primo = False\n",
    "            break\n",
    "    if n_primo: # Condición de primo verdadero, es decir \"n_max % i\" diferente de 0\n",
    "        print (n_max, end=\" | \")\n",
    "    else:\n",
    "        n_primo = True # En caso de primo falso, es decir \"n_max % 1\" igual a cero. Se devuelve True a primo para continuar el bucle       \n",
    "    n_max -= 1 # Decrecimiento del bucle\n",
    "print(\"El total de ciclos registrados es =\", cont_min)"
   ]
  },
  {
   "cell_type": "code",
   "execution_count": null,
   "metadata": {},
   "outputs": [],
   "source": [
    "n_max = int(input(\"Por favor ingrese un entero mayor a cero = \"))\n",
    "n_primo = True\n",
    "for i in range(2, n_max):\n",
    "    if (n_max % i) == 0:\n",
    "        n_primo = False  \n",
    "if n_primo:\n",
    "    print (n_max,\"es un número PRIMO\")\n",
    "else:\n",
    "    print (n_max, \"NO es un número PRIMO\")      "
   ]
  },
  {
   "cell_type": "code",
   "execution_count": 1,
   "metadata": {},
   "outputs": [
    {
     "name": "stdout",
     "output_type": "stream",
     "text": [
      "El rango a analizar es [ 2 , 13 ] \n",
      " \n",
      "\n",
      "El PRIMO que sigue es: 2\n",
      "---\n",
      "El PRIMO que sigue es: 3\n",
      "---\n",
      "El PRIMO que sigue es: 5\n",
      "---\n",
      "El PRIMO que sigue es: 7\n",
      "---\n",
      "El PRIMO que sigue es: 11\n",
      "---\n",
      "El PRIMO que sigue es: 13\n",
      "---\n",
      "Fin\n"
     ]
    }
   ],
   "source": [
    "n_ini = 2\n",
    "n_fin = 13\n",
    "continua = 1\n",
    "n_primo = True\n",
    "print(\"El rango a analizar es\", \"[\",n_ini,\",\" ,n_fin,\"]\", \"\\n\", \"\\n\")\n",
    "while (n_ini <= n_fin):\n",
    "    for i in range(2, n_ini): \n",
    "        if (n_ini % i) == 0:\n",
    "            n_primo = False\n",
    "    if n_primo:\n",
    "        print (\"El PRIMO que sigue es:\", n_ini)\n",
    "        while continua != 0:\n",
    "            continua = int(input(\"Para conocer el próximo número PRIMO, digite '0' para continuar:\"))\n",
    "        else:\n",
    "            print(\"---\")     \n",
    "    else:\n",
    "        n_primo = True\n",
    "    continua = 1\n",
    "    n_ini += 1  \n",
    "print(\"Fin\")"
   ]
  }
 ],
 "metadata": {
  "kernelspec": {
   "display_name": "Python 3",
   "language": "python",
   "name": "python3"
  },
  "language_info": {
   "codemirror_mode": {
    "name": "ipython",
    "version": 3
   },
   "file_extension": ".py",
   "mimetype": "text/x-python",
   "name": "python",
   "nbconvert_exporter": "python",
   "pygments_lexer": "ipython3",
   "version": "3.11.5"
  },
  "orig_nbformat": 4
 },
 "nbformat": 4,
 "nbformat_minor": 2
}
