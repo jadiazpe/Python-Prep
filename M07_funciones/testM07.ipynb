{
 "cells": [
  {
   "cell_type": "markdown",
   "metadata": {},
   "source": [
    "## FUNCIONES"
   ]
  },
  {
   "cell_type": "code",
   "execution_count": null,
   "metadata": {},
   "outputs": [],
   "source": [
    "def area_rect (b,h):\n",
    "    ar = b * h\n",
    "    return ar"
   ]
  },
  {
   "cell_type": "code",
   "execution_count": null,
   "metadata": {},
   "outputs": [],
   "source": [
    "area_rect(4,5)"
   ]
  },
  {
   "cell_type": "code",
   "execution_count": 1,
   "metadata": {},
   "outputs": [
    {
     "data": {
      "text/plain": [
       "module"
      ]
     },
     "execution_count": 1,
     "metadata": {},
     "output_type": "execute_result"
    }
   ],
   "source": [
    "# Pruebas para solucionar un problema reportado vía SLACK (M07) \n",
    "import sys\n",
    "sys.path.append(\"c:\\DATA_SCIENCE\\JD_MODULES\\PY\")\n",
    "\n",
    "import mimodulo\n",
    "type(mimodulo)"
   ]
  },
  {
   "cell_type": "code",
   "execution_count": 2,
   "metadata": {},
   "outputs": [
    {
     "name": "stdout",
     "output_type": "stream",
     "text": [
      "9\n",
      "5\n",
      "14\n"
     ]
    }
   ],
   "source": [
    "print(mimodulo.sumar(7,2))\n",
    "print(mimodulo.restar(7,2))\n",
    "print(mimodulo.multiplicar(7,2))"
   ]
  },
  {
   "cell_type": "code",
   "execution_count": null,
   "metadata": {},
   "outputs": [],
   "source": [
    "def dividir(dividendo, divisor):\n",
    "    cociente = dividendo // divisor\n",
    "    resto = dividendo % divisor\n",
    "    return cociente, resto"
   ]
  },
  {
   "cell_type": "code",
   "execution_count": null,
   "metadata": {},
   "outputs": [],
   "source": [
    "dividir(14,3)"
   ]
  },
  {
   "cell_type": "code",
   "execution_count": null,
   "metadata": {},
   "outputs": [],
   "source": [
    "def ordenar (num1=0, num2=0):\n",
    "    ''' Calcula una condición con parámetros previamente asignados\n",
    "    '''\n",
    "    if num1 > num2:\n",
    "        return num2, num1\n",
    "    else:\n",
    "        return num1, num2"
   ]
  },
  {
   "cell_type": "code",
   "execution_count": null,
   "metadata": {},
   "outputs": [],
   "source": [
    "ordenar (4,2)\n",
    "print(ordenar)\n",
    "help(ordenar)"
   ]
  },
  {
   "cell_type": "markdown",
   "metadata": {},
   "source": [
    "Pasada Valor & Referencia"
   ]
  },
  {
   "cell_type": "code",
   "execution_count": null,
   "metadata": {},
   "outputs": [],
   "source": [
    "x=10\n",
    "def funcion(entrada):\n",
    "    entrada=0\n",
    "    print(id(entrada))\n",
    "\n",
    "funcion(x)"
   ]
  },
  {
   "cell_type": "code",
   "execution_count": null,
   "metadata": {},
   "outputs": [],
   "source": [
    "print(x)\n",
    "print(id(x))"
   ]
  },
  {
   "cell_type": "markdown",
   "metadata": {},
   "source": [
    "Dos (2) variables y referenciación de objetos de : valor y de referencia"
   ]
  },
  {
   "cell_type": "code",
   "execution_count": null,
   "metadata": {},
   "outputs": [],
   "source": [
    "# Objetos valor --> variables simples: int, float, str, boolean, complex\n",
    "x = 53\n",
    "y = x\n",
    "y = 40\n",
    "\n",
    "print (x, y)"
   ]
  },
  {
   "cell_type": "code",
   "execution_count": null,
   "metadata": {},
   "outputs": [],
   "source": [
    "# Objetos de referencia --> objetos complejos: listas, tuplas, diccionarios\n",
    "x = [5, 9, 23, 15]\n",
    "y = x\n",
    "y.append(3)\n",
    "\n",
    "print(x, y)\n",
    "print(id(x), id(y))"
   ]
  },
  {
   "cell_type": "code",
   "execution_count": null,
   "metadata": {},
   "outputs": [],
   "source": [
    "# Uso de copy() para objetos de referencia en los que NO se desee alterar la variable original\n",
    "x = [5, 9, 23, 15]\n",
    "y = x.copy()\n",
    "y.append(3)\n",
    "\n",
    "print(x, y)\n",
    "print(id(x), id(y))"
   ]
  },
  {
   "cell_type": "markdown",
   "metadata": {},
   "source": [
    "Funciones LAMBDA"
   ]
  },
  {
   "cell_type": "code",
   "execution_count": 1,
   "metadata": {},
   "outputs": [
    {
     "data": {
      "text/plain": [
       "[5, 6, 5, 6, 5, 6]"
      ]
     },
     "execution_count": 1,
     "metadata": {},
     "output_type": "execute_result"
    }
   ],
   "source": [
    "lambda_lista = lambda x, y : x*y\n",
    "lambda_lista([5,6], 3) "
   ]
  },
  {
   "cell_type": "code",
   "execution_count": null,
   "metadata": {},
   "outputs": [],
   "source": [
    "lst1 = [3,5,4,7,11,100]\n",
    "prim = True\n",
    "primos = []\n",
    "for i in (lst1):\n",
    "    #print (\"num\", i)\n",
    "    for j in range (2, i):\n",
    "        #print (j, i % j)\n",
    "        if i % j == 0:\n",
    "            prim = False\n",
    "            break\n",
    "    if prim == True:\n",
    "        primos.append(i)\n",
    "        #print (\"hola primo\")\n",
    "    else:\n",
    "        prim = True\n",
    "print(primos)"
   ]
  },
  {
   "cell_type": "markdown",
   "metadata": {},
   "source": [
    ") Crear una función que al recibir una lista de números, devuelva el que más se repite y cuántas veces lo hace. Si hay más de un \"más repetido\", que devuelva cualquiera"
   ]
  },
  {
   "cell_type": "code",
   "execution_count": null,
   "metadata": {},
   "outputs": [],
   "source": [
    "lst3 = [5,7,11,3,4,3,67,34,7,67,4,3,67,11,67,4,4,67]\n",
    "lst3_rep = dict()\n",
    "for i in lst3:\n",
    "    lst3_rep[i] = lst3.count(i)\n",
    "lst3_rep_orden = sorted(lst3_rep.items(), key=lambda item:item[1], reverse=True)\n",
    "print(lst3_rep)\n",
    "print(lst3_rep_orden)\n",
    "for l,m in enumerate(lst3_rep_orden):\n",
    "    if l < 4:\n",
    "        print (\"El número que más se repite es\", m[0], \"con\", m[1], \"ocurrencias\")\n"
   ]
  },
  {
   "cell_type": "markdown",
   "metadata": {},
   "source": [
    "4) Crear una función que convierta entre grados Celsius, Farenheit y Kelvin<br>\n",
    "Fórmula 1\t: (°C × 9/5) + 32 = °F<br>\n",
    "Fórmula 2\t: °C + 273.15 = °K<br>\n",
    "Debe recibir 3 parámetros: el valor, la medida de orígen y la medida de destino"
   ]
  },
  {
   "cell_type": "code",
   "execution_count": null,
   "metadata": {},
   "outputs": [],
   "source": [
    "def temperatura (valor, ent_med, sal_med):\n",
    "    \n",
    "    if ent_med == \"Celsius\" and sal_med == \"Farenheit\":\n",
    "        cel_far = (valor * (9 / 5) + 32)\n",
    "        print(valor, \"grados\", ent_med, \"son equivalentes a\", cel_far, sal_med)\n",
    "    if ent_med == \"Celsius\" and sal_med == \"Kelvin\":\n",
    "        cel_kel = (valor + 273.15)\n",
    "        print(valor, \"grados\", ent_med, \"son equivalentes a\", cel_kel, sal_med)\n",
    "    if ent_med == \"Farenheit\" and sal_med == \"Celsius\":\n",
    "        far_cel = (valor - 32) / (9 / 5)\n",
    "        print(valor, \"grados\", ent_med, \"son equivalentes a\", far_cel, sal_med)\n",
    "    if ent_med == \"Farenheit\" and sal_med == \"Kelvin\":\n",
    "        far_kel = ((valor - 32) / (9 / 5)) + 273.15\n",
    "        print(valor, \"grados\", ent_med, \"son equivalentes a\", far_kel, sal_med)\n",
    "    if ent_med == \"Kelvin\" and sal_med == \"Celsius\":\n",
    "        kel_cel = valor - 273.15\n",
    "        print(valor, \"grados\", ent_med, \"son equivalentes a\", kel_cel, sal_med)\n",
    "    if ent_med == \"Kelvin\" and sal_med == \"Farenheit\":\n",
    "        kel_far = ((valor - 273.15) * (9 / 5)) + 32\n",
    "        print(valor, \"grados\", ent_med, \"son equivalentes a\", kel_far, sal_med)\n",
    "    \n",
    "    return \"FIN\"\n",
    "    \n",
    "\n",
    "temperatura(10, \"Kelvin\", \"Farenheit\")"
   ]
  },
  {
   "cell_type": "code",
   "execution_count": null,
   "metadata": {},
   "outputs": [],
   "source": [
    "# ÚLTIMA versión con una sola variable vía RETURN\n",
    "def temperatura2 (valor, ent_med, sal_med):\n",
    "    \n",
    "    if ent_med == \"Celsius\":\n",
    "        if sal_med == \"Farenheit\":\n",
    "            salida = (valor * (9 / 5) + 32)\n",
    "        elif sal_med == \"Kelvin\":\n",
    "            salida = (valor + 273.15)\n",
    "    if ent_med == \"Farenheit\":\n",
    "        if sal_med == \"Celsius\":\n",
    "            salida = (valor - 32) / (9 / 5)\n",
    "        elif sal_med == \"Kelvin\":\n",
    "            salida = ((valor - 32) / (9 / 5)) + 273.15\n",
    "    if ent_med == \"Kelvin\":\n",
    "        if sal_med == \"Celsius\":\n",
    "            salida = valor - 273.15\n",
    "        elif sal_med == \"Farenheit\":\n",
    "            salida = ((valor - 273.15) * (9 / 5)) + 32\n",
    "    return round(salida,2)\n"
   ]
  },
  {
   "cell_type": "code",
   "execution_count": null,
   "metadata": {},
   "outputs": [],
   "source": [
    "escalas = [\"Celsius\",\"Farenheit\",\"Kelvin\"]\n",
    "x = 10\n",
    "print(\">>> Valor de Entrada =\", x, \"Grados <<<\")\n",
    "for i in escalas:\n",
    "    print(\"* Escala\", i, \":\")\n",
    "    for j in range(0, 3):\n",
    "        if i == escalas[j]:\n",
    "            continue\n",
    "        print(x, \"Grados\", i, \"equivalen a\", temperatura2(x, i, escalas[j]), \"Grados\", escalas[j])\n"
   ]
  }
 ],
 "metadata": {
  "kernelspec": {
   "display_name": "Python 3",
   "language": "python",
   "name": "python3"
  },
  "language_info": {
   "codemirror_mode": {
    "name": "ipython",
    "version": 3
   },
   "file_extension": ".py",
   "mimetype": "text/x-python",
   "name": "python",
   "nbconvert_exporter": "python",
   "pygments_lexer": "ipython3",
   "version": "3.11.5"
  },
  "orig_nbformat": 4
 },
 "nbformat": 4,
 "nbformat_minor": 2
}
