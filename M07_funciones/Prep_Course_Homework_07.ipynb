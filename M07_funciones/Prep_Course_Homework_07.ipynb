{
 "cells": [
  {
   "attachments": {},
   "cell_type": "markdown",
   "metadata": {},
   "source": [
    "## Funciones"
   ]
  },
  {
   "attachments": {},
   "cell_type": "markdown",
   "metadata": {},
   "source": [
    "1) Crear una función que reciba un número como parámetro y devuelva True si es primo y False si no lo es"
   ]
  },
  {
   "cell_type": "code",
   "execution_count": null,
   "metadata": {},
   "outputs": [],
   "source": [
    "def primo1 (n):\n",
    "    cont = 0\n",
    "    divisores = []\n",
    "    if n == 2:\n",
    "        return True\n",
    "    for i in range (2, n):\n",
    "        divisores.append(i)\n",
    "    for j in divisores:\n",
    "        if n % j == 0:\n",
    "            return False\n",
    "        else:\n",
    "            cont += 1\n",
    "    if cont != 0:\n",
    "        return True \n",
    "primo(2)\n"
   ]
  },
  {
   "cell_type": "code",
   "execution_count": 4,
   "metadata": {},
   "outputs": [
    {
     "data": {
      "text/plain": [
       "True"
      ]
     },
     "execution_count": 4,
     "metadata": {},
     "output_type": "execute_result"
    }
   ],
   "source": [
    "def primo2 (y):\n",
    "    si_primo = True\n",
    "    if y == 2:\n",
    "        return True\n",
    "    for i in range (2, y):\n",
    "        if y % i == 0:\n",
    "            si_primo = False\n",
    "            break\n",
    "    return si_primo\n",
    "primo2 (7)"
   ]
  },
  {
   "attachments": {},
   "cell_type": "markdown",
   "metadata": {},
   "source": [
    "2) Utilizando la función del punto 1, realizar otra función que reciba de parámetro una lista de números y devuelva sólo aquellos que son primos en otra lista"
   ]
  },
  {
   "cell_type": "code",
   "execution_count": null,
   "metadata": {},
   "outputs": [],
   "source": [
    "def lst_primos(lpr):\n",
    "    prim = True\n",
    "    primos = []\n",
    "    for i in (lpr):\n",
    "        for j in range (2, i):\n",
    "            if i % j == 0:\n",
    "                prim = False\n",
    "                break\n",
    "        if prim == True:\n",
    "            primos.append(i)\n",
    "        else:\n",
    "            prim = True\n",
    "    return primos\n",
    "\n",
    "lpr = [32,5,4,7,11,100,101,13,19,21,37]\n",
    "lst_primos (lpr)"
   ]
  },
  {
   "cell_type": "code",
   "execution_count": 5,
   "metadata": {},
   "outputs": [
    {
     "data": {
      "text/plain": [
       "[5, 7, 11, 101, 13, 19, 37]"
      ]
     },
     "execution_count": 5,
     "metadata": {},
     "output_type": "execute_result"
    }
   ],
   "source": [
    "def lst_primos(lpr1):\n",
    "    primos2 = []\n",
    "    for i in (lpr1):\n",
    "        if (primo2(i)): # Usa función previa 'primo2()'\n",
    "            primos2.append(i)\n",
    "    return primos2\n",
    "\n",
    "lpr1 = [32,5,4,7,11,100,101,13,19,21,37]\n",
    "lst_primos (lpr1)"
   ]
  },
  {
   "attachments": {},
   "cell_type": "markdown",
   "metadata": {},
   "source": [
    "3) Crear una función que al recibir una lista de números, devuelva el que más se repite y cuántas veces lo hace. Si hay más de un \"más repetido\", que devuelva cualquiera"
   ]
  },
  {
   "cell_type": "code",
   "execution_count": null,
   "metadata": {},
   "outputs": [],
   "source": [
    "def ocurrencia(lst3):\n",
    "    lst3_rep = dict()\n",
    "    for i in lst3:\n",
    "        lst3_rep[i] = lst3.count(i)\n",
    "    lst3_rep_orden = sorted(lst3_rep.items(), key=lambda item:item[1], reverse=True)\n",
    "    for l,m in enumerate(lst3_rep_orden):\n",
    "        return \"El número que más se repite es\", m[0], \"con\", m[1], \"ocurrencias\"\n",
    "\n",
    "lst3 = [5,7,11,5,3,67,34,7,67,4,3,67,11,67,4,4,67,32,4,16,5,4,67,3,3,3]\n",
    "ocurrencia(lst3)"
   ]
  },
  {
   "attachments": {},
   "cell_type": "markdown",
   "metadata": {},
   "source": [
    "4) Crear una función que convierta entre grados Celsius, Farenheit y Kelvin<br>\n",
    "Fórmula 1\t: (°C × 9/5) + 32 = °F<br>\n",
    "Fórmula 2\t: °C + 273.15 = °K<br>\n",
    "Debe recibir 3 parámetros: el valor, la medida de orígen y la medida de destino\n"
   ]
  },
  {
   "cell_type": "code",
   "execution_count": null,
   "metadata": {},
   "outputs": [],
   "source": [
    "def temperatura2 (valor, ent_med, sal_med):\n",
    "    \n",
    "    if ent_med == \"Celsius\":\n",
    "        if sal_med == \"Farenheit\":\n",
    "            salida = (valor * (9 / 5) + 32)\n",
    "        elif sal_med == \"Kelvin\":\n",
    "            salida = (valor + 273.15)\n",
    "    if ent_med == \"Farenheit\":\n",
    "        if sal_med == \"Celsius\":\n",
    "            salida = (valor - 32) / (9 / 5)\n",
    "        elif sal_med == \"Kelvin\":\n",
    "            salida = ((valor - 32) / (9 / 5)) + 273.15\n",
    "    if ent_med == \"Kelvin\":\n",
    "        if sal_med == \"Celsius\":\n",
    "            salida = valor - 273.15\n",
    "        elif sal_med == \"Farenheit\":\n",
    "            salida = ((valor - 273.15) * (9 / 5)) + 32\n",
    "    return round(salida,2)\n"
   ]
  },
  {
   "attachments": {},
   "cell_type": "markdown",
   "metadata": {},
   "source": [
    "5) Iterando una lista con los tres valores posibles de temperatura que recibe la función del punto 5, hacer un print para cada combinación de los mismos:"
   ]
  },
  {
   "cell_type": "code",
   "execution_count": null,
   "metadata": {},
   "outputs": [],
   "source": [
    "escalas = [\"Celsius\",\"Farenheit\",\"Kelvin\"]\n",
    "x = 10\n",
    "print(\">>> Valor de Entrada =\", x, \"Grados <<<\")\n",
    "for i in escalas:\n",
    "    print(\"* Escala\", i, \":\")\n",
    "    for j in range(0, 3):\n",
    "        if i == escalas[j]:\n",
    "            continue\n",
    "        print(x, \"Grados\", i, \"equivalen a\", temperatura2(x, i, escalas[j]), \"Grados\", escalas[j])"
   ]
  },
  {
   "attachments": {},
   "cell_type": "markdown",
   "metadata": {},
   "source": [
    "6) Armar una función que devuelva el factorial de un número. Tener en cuenta que el usuario puede equivocarse y enviar de parámetro un número no entero o negativo"
   ]
  },
  {
   "cell_type": "code",
   "execution_count": null,
   "metadata": {},
   "outputs": [],
   "source": [
    "def factorial(x):\n",
    "    import numpy\n",
    "    f = []\n",
    "    if type(x) != int or x < 0 :\n",
    "        return \"Debe ingresar un número entero mayor que cero\"\n",
    "    else:\n",
    "        for i in range(1,(x+1)):\n",
    "            f.append(i)\n",
    "            fac = numpy.prod(f)\n",
    "    return (i, fac)\n",
    "\n",
    "factorial(5)"
   ]
  },
  {
   "cell_type": "code",
   "execution_count": null,
   "metadata": {},
   "outputs": [],
   "source": [
    "def factor(x):\n",
    "    if type(x) != int or x < 0 :\n",
    "        return \"Debe ingresar un número entero mayor que cero\"\n",
    "    else:\n",
    "        fac = 1\n",
    "        for i in range(1,(x+1)):\n",
    "            fac = fac * i\n",
    "    return fac\n",
    "\n",
    "factor(4)"
   ]
  },
  {
   "cell_type": "code",
   "execution_count": null,
   "metadata": {},
   "outputs": [],
   "source": [
    "def factor(n):\n",
    "    if type(n) != int or n < 1: \n",
    "        return None\n",
    "    else:\n",
    "        if n == 1:\n",
    "            return 1\n",
    "        else:\n",
    "            return n * factor(n-1)\n",
    "\n",
    "factor(5)"
   ]
  }
 ],
 "metadata": {
  "interpreter": {
   "hash": "c85384e4cb51c8b72350f3a8712cc8351fdc3955e32a27f9b60c6242ab125f01"
  },
  "kernelspec": {
   "display_name": "Python 3 (ipykernel)",
   "language": "python",
   "name": "python3"
  },
  "language_info": {
   "codemirror_mode": {
    "name": "ipython",
    "version": 3
   },
   "file_extension": ".py",
   "mimetype": "text/x-python",
   "name": "python",
   "nbconvert_exporter": "python",
   "pygments_lexer": "ipython3",
   "version": "3.11.5"
  }
 },
 "nbformat": 4,
 "nbformat_minor": 4
}
