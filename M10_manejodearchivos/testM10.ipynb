{
 "cells": [
  {
   "cell_type": "markdown",
   "metadata": {},
   "source": [
    "## INPUT / OUTPUT"
   ]
  },
  {
   "cell_type": "code",
   "execution_count": null,
   "metadata": {},
   "outputs": [],
   "source": [
    "# Caso especial print()\n",
    "var1 = \"Epi\"\n",
    "var2 = 10\n",
    "var3 = 2\n",
    "print(f\"Tenemos a {var1} mirando sobre un horizonte de {var3} variantes estelares, que se encuentran a {var2*5} años luz\")"
   ]
  },
  {
   "cell_type": "code",
   "execution_count": null,
   "metadata": {},
   "outputs": [],
   "source": [
    "# Recordar que por defecto INPUT() recibe datos y los deja SIEMPRE tipo String\n",
    "nombre = input(\"Cuál es tu nombre:\")\n",
    "edad = input(\"Cuál es tu edad:\")\n",
    "print(nombre, edad)\n",
    "print(type(nombre))\n",
    "print(type(edad))\n",
    "edad = int(edad)\n",
    "print(\"edad convertida =\", type(edad))"
   ]
  },
  {
   "cell_type": "markdown",
   "metadata": {},
   "source": [
    "## LIBRERÍA OS TRABAJO CON FICHEROS"
   ]
  },
  {
   "cell_type": "code",
   "execution_count": null,
   "metadata": {},
   "outputs": [],
   "source": [
    "import os"
   ]
  },
  {
   "cell_type": "code",
   "execution_count": null,
   "metadata": {},
   "outputs": [],
   "source": [
    "os.makedirs(\"CARPETA_TEST\")"
   ]
  },
  {
   "cell_type": "code",
   "execution_count": null,
   "metadata": {},
   "outputs": [],
   "source": [
    "os.makedirs(\"C:\\\\DATA_SCIENCE\\\\JD_MODULES\\\\FOLDER_TEST\")"
   ]
  },
  {
   "cell_type": "code",
   "execution_count": null,
   "metadata": {},
   "outputs": [],
   "source": [
    "os.listdir(\"C:/DATA_SCIENCE\")"
   ]
  },
  {
   "cell_type": "code",
   "execution_count": null,
   "metadata": {},
   "outputs": [],
   "source": [
    "os.getcwd()"
   ]
  },
  {
   "cell_type": "code",
   "execution_count": null,
   "metadata": {},
   "outputs": [],
   "source": [
    "os.path.isdir(\"CARPETA_TEST\")"
   ]
  },
  {
   "cell_type": "code",
   "execution_count": null,
   "metadata": {},
   "outputs": [],
   "source": [
    "os.path.isfile(\"CARPETA_TEST\")"
   ]
  },
  {
   "cell_type": "code",
   "execution_count": null,
   "metadata": {},
   "outputs": [],
   "source": [
    "os.path.getsize(\"C:\\\\DATA_SCIENCE\\\\JD_MODULES\\\\PY\\\\Hola.py\")"
   ]
  },
  {
   "cell_type": "markdown",
   "metadata": {},
   "source": [
    "## ARCHIVOS & SCRAPPING"
   ]
  },
  {
   "cell_type": "code",
   "execution_count": null,
   "metadata": {},
   "outputs": [],
   "source": [
    "import os"
   ]
  },
  {
   "cell_type": "code",
   "execution_count": null,
   "metadata": {},
   "outputs": [],
   "source": [
    "lectura = open(\"c:\\DATA_SCIENCE\\JD_MODULES\\leearchivo1.txt\", \"a\")\n",
    "lectura.write(\"-->Estoy agregando una nueva línea\")\n",
    "lectura.close()"
   ]
  },
  {
   "cell_type": "code",
   "execution_count": null,
   "metadata": {},
   "outputs": [],
   "source": [
    "lectura = open(\"c:\\DATA_SCIENCE\\JD_MODULES\\leearchivo1.txt\")\n",
    "lectura.read()\n",
    "lectura.close()"
   ]
  },
  {
   "cell_type": "code",
   "execution_count": null,
   "metadata": {},
   "outputs": [],
   "source": [
    "lectura = open(\"c:\\DATA_SCIENCE\\JD_MODULES\\leearchivo1.txt\", \"a+\")\n",
    "paises = [\"Holanda\", \"España\", \"Coread del Sur\"]\n",
    "for pais in paises:\n",
    "    lectura.write(pais+\"\\n\")\n",
    "    print(pais)\n",
    "lectura.close()"
   ]
  },
  {
   "cell_type": "code",
   "execution_count": null,
   "metadata": {},
   "outputs": [],
   "source": [
    "from bs4 import BeautifulSoup\n",
    "import urllib.request "
   ]
  },
  {
   "cell_type": "code",
   "execution_count": null,
   "metadata": {},
   "outputs": [],
   "source": [
    "response = urllib.request.urlopen(\"http://es.wikipedia.org/wiki/Python\")\n",
    "html = response.read()"
   ]
  },
  {
   "cell_type": "code",
   "execution_count": null,
   "metadata": {},
   "outputs": [],
   "source": [
    "lee_notags = BeautifulSoup(html, \"html.parser\")\n",
    "texto = lee_notags.get_text()"
   ]
  },
  {
   "cell_type": "code",
   "execution_count": null,
   "metadata": {},
   "outputs": [],
   "source": [
    "with open(\"c:\\DATA_SCIENCE\\JD_MODULES\\leearchivo2.txt\", \"a+\", encoding=\"utf-8\") as lee_html:\n",
    "    lee_html.write(texto+\"\\n\")"
   ]
  },
  {
   "cell_type": "code",
   "execution_count": null,
   "metadata": {},
   "outputs": [],
   "source": [
    "import datetime\n",
    "x = datetime.datetime.now()\n",
    "print(\"Ahora =\",x)\n",
    "\n",
    "y = datetime.datetime.timestamp(x)\n",
    "print(y)"
   ]
  }
 ],
 "metadata": {
  "kernelspec": {
   "display_name": "Python 3",
   "language": "python",
   "name": "python3"
  },
  "language_info": {
   "codemirror_mode": {
    "name": "ipython",
    "version": 3
   },
   "file_extension": ".py",
   "mimetype": "text/x-python",
   "name": "python",
   "nbconvert_exporter": "python",
   "pygments_lexer": "ipython3",
   "version": "3.11.5"
  },
  "orig_nbformat": 4
 },
 "nbformat": 4,
 "nbformat_minor": 2
}
