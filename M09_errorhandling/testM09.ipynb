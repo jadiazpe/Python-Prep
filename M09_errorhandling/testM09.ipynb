{
 "cells": [
  {
   "cell_type": "markdown",
   "metadata": {},
   "source": [
    "## CAJA NEGRA"
   ]
  },
  {
   "cell_type": "code",
   "execution_count": null,
   "metadata": {},
   "outputs": [],
   "source": [
    "# IMPORTAR LIBRERÍA UNITTEST\n",
    "import unittest"
   ]
  },
  {
   "cell_type": "code",
   "execution_count": null,
   "metadata": {},
   "outputs": [],
   "source": [
    "# CREAR FUNCIÓN QUE SE DESEA PROBAR\n",
    "def suma(num_1, num_2):\n",
    "    return (num_1 + num_2)"
   ]
  },
  {
   "cell_type": "code",
   "execution_count": null,
   "metadata": {},
   "outputs": [],
   "source": [
    "# CREAR CLASE QUE HEREDA DE UNITEST EL \"TESTCASE\"\n",
    "class CajaNegraTest(unittest.TestCase):\n",
    "    def test_suma_positivos(self):\n",
    "        num_1 = 10\n",
    "        num_2 = 5\n",
    "        resultado = suma(num_1, num_2)\n",
    "        self.assertEqual(resultado, 15)\n",
    "    def test_suma_negativos(self):\n",
    "        num_1 = -10\n",
    "        num_2 = -7\n",
    "        resultado = suma(num_1, num_2)\n",
    "        self.assertEqual(resultado, -17)"
   ]
  },
  {
   "cell_type": "code",
   "execution_count": null,
   "metadata": {},
   "outputs": [],
   "source": [
    "unittest.main(argv=[\"\"], verbosity = 2, exit = False)\n",
    "test_suma_positivos(_main_.CajaNegraTest)\n",
    "test_suma_negativos(_main_.CajaNegraTest)"
   ]
  },
  {
   "cell_type": "markdown",
   "metadata": {},
   "source": [
    "## CAJA DE CRISTAL"
   ]
  },
  {
   "cell_type": "code",
   "execution_count": null,
   "metadata": {},
   "outputs": [],
   "source": [
    "# IMPORTAR LIBRERÍA UNITTEST\n",
    "import unittest"
   ]
  },
  {
   "cell_type": "code",
   "execution_count": null,
   "metadata": {},
   "outputs": [],
   "source": [
    "# CREAR FUNCIÓN QUE SE DESEA PROBAR\n",
    "def mayoria_edad(edad):\n",
    "    if edad >= 18:\n",
    "        return True\n",
    "    else:\n",
    "        return False"
   ]
  },
  {
   "cell_type": "code",
   "execution_count": null,
   "metadata": {},
   "outputs": [],
   "source": [
    "# CREAR CLASE QUE HEREDA DE UNITEST EL \"TESTCASE\"\n",
    "class CajaCristalTest(unittest.TestCase):\n",
    "    def test_si_mayoria(self):\n",
    "        edad = 19\n",
    "        resultado = mayoria_edad(edad)\n",
    "        self.assertEqual(resultado, True)\n",
    "    def test_no_mayoria(self):\n",
    "        edad = 10\n",
    "        resultado = mayoria_edad(edad)\n",
    "        self.assertEqual(resultado, False)"
   ]
  },
  {
   "cell_type": "code",
   "execution_count": null,
   "metadata": {},
   "outputs": [],
   "source": [
    "unittest.main(argv=[\"\"], verbosity = 2, exit = False)\n",
    "#test_si_mayoria(_main_.CajaCristalTest.test_si_mayoria)\n",
    "#test_no_mayoria(_main_.CajaCristalTest_test_no_mayoria)"
   ]
  },
  {
   "cell_type": "markdown",
   "metadata": {},
   "source": [
    "## EXCEPCIONES"
   ]
  },
  {
   "cell_type": "code",
   "execution_count": null,
   "metadata": {},
   "outputs": [],
   "source": [
    "#EJEMPLO 1\n",
    "def dividir(lista, divisor):\n",
    "    try:\n",
    "        return [i / divisor for i in lista]\n",
    "    except ZeroDivisionError as e:\n",
    "        print(e)\n",
    "        return lista"
   ]
  },
  {
   "cell_type": "code",
   "execution_count": null,
   "metadata": {},
   "outputs": [],
   "source": [
    "lista = [1,2,3,4,5,6]\n",
    "divisor = 0\n",
    "lista_d = dividir(lista, divisor)"
   ]
  },
  {
   "cell_type": "code",
   "execution_count": null,
   "metadata": {},
   "outputs": [],
   "source": [
    "print(lista_d)"
   ]
  },
  {
   "cell_type": "code",
   "execution_count": null,
   "metadata": {},
   "outputs": [],
   "source": [
    "#EJEMPLO 2\n",
    "def dividir_nums(a, b):\n",
    "    try:\n",
    "        return a / b\n",
    "    except ZeroDivisionError as e:\n",
    "        print(e)\n",
    "        return None"
   ]
  },
  {
   "cell_type": "code",
   "execution_count": null,
   "metadata": {},
   "outputs": [],
   "source": [
    "dividir_nums(5, 0)"
   ]
  },
  {
   "cell_type": "code",
   "execution_count": null,
   "metadata": {},
   "outputs": [],
   "source": [
    "#EJEMPLO 3\n",
    "try:\n",
    "    with open (\"archivo.txt\",\"r\") as f:\n",
    "        contenido = f.read()\n",
    "except FileNotFoundError:\n",
    "    print(\"El archivo no existe\")"
   ]
  },
  {
   "cell_type": "code",
   "execution_count": null,
   "metadata": {},
   "outputs": [],
   "source": [
    "#EJEMPLO 4\n",
    "paises = {\"Estados Unidos\":\"US\", \"Colombia\":\"CO\", \"Brasil\":\"BR\"}\n",
    "try:\n",
    "    codigo = paises[\"Argentina\"]\n",
    "except KeyError:\n",
    "    print(\"La clave no existe\")"
   ]
  },
  {
   "cell_type": "markdown",
   "metadata": {},
   "source": [
    "Afirmaciones"
   ]
  },
  {
   "cell_type": "code",
   "execution_count": null,
   "metadata": {},
   "outputs": [],
   "source": [
    "# assert condicion, mensaje_de_Error"
   ]
  },
  {
   "cell_type": "code",
   "execution_count": null,
   "metadata": {},
   "outputs": [],
   "source": [
    "def Lista_palabras(lst_str):\n",
    "    lst_str1 = []\n",
    "    for i in lst_str:\n",
    "        assert type(i) == str, f\"{i} no es str\"\n",
    "        assert len(i) > 0, f\"No se permiten str vacios\"\n",
    "        i = \"**\"+i\n",
    "        lst_str1.append(i)\n",
    "    return lst_str1"
   ]
  },
  {
   "cell_type": "code",
   "execution_count": null,
   "metadata": {},
   "outputs": [],
   "source": [
    "x = [\"ser\", \"o\", \"no\", \"ser\", \"53\", \"\"]\n",
    "Lista_palabras(x)"
   ]
  },
  {
   "cell_type": "code",
   "execution_count": 3,
   "metadata": {},
   "outputs": [],
   "source": [
    "def test_enteros(l):\n",
    "    for i,j in enumerate(l):\n",
    "        if type(j) != int:\n",
    "            raise TypeError(\"Listado de números enteros\", \"en la posición:\", i, \"el elemento\", j, \"no es un entero\")\n",
    "    \n",
    "    return 'Listado Valido'"
   ]
  },
  {
   "cell_type": "code",
   "execution_count": 5,
   "metadata": {},
   "outputs": [
    {
     "ename": "TypeError",
     "evalue": "('Listado de números enteros', 'en la posición:', 6, 'el elemento', 4.2, 'no es un entero')",
     "output_type": "error",
     "traceback": [
      "\u001b[1;31m---------------------------------------------------------------------------\u001b[0m",
      "\u001b[1;31mTypeError\u001b[0m                                 Traceback (most recent call last)",
      "Cell \u001b[1;32mIn[5], line 2\u001b[0m\n\u001b[0;32m      1\u001b[0m l \u001b[39m=\u001b[39m [\u001b[39m2\u001b[39m,\u001b[39m7\u001b[39m,\u001b[39m4\u001b[39m,\u001b[39m3\u001b[39m,\u001b[39m4\u001b[39m,\u001b[39m3\u001b[39m,\u001b[39m4.2\u001b[39m,\u001b[39m3\u001b[39m,\u001b[39m7\u001b[39m,\u001b[39m6\u001b[39m,\u001b[39m4\u001b[39m,\u001b[39m4\u001b[39m,\u001b[39m6\u001b[39m,\u001b[39m2\u001b[39m,\u001b[39m4\u001b[39m,\u001b[39m1\u001b[39m,\u001b[39m6\u001b[39m,\u001b[39m5\u001b[39m,\u001b[39m4\u001b[39m,\u001b[39m7\u001b[39m,\u001b[39m3\u001b[39m,\u001b[39m3\u001b[39m,\u001b[39m3\u001b[39m,\u001b[39m0\u001b[39m,\u001b[39m-\u001b[39m\u001b[39m4\u001b[39m,\u001b[39m-\u001b[39m\u001b[39m5\u001b[39m,\u001b[39m-\u001b[39m\u001b[39m1\u001b[39m]\n\u001b[1;32m----> 2\u001b[0m test_enteros(l)\n",
      "Cell \u001b[1;32mIn[3], line 4\u001b[0m, in \u001b[0;36mtest_enteros\u001b[1;34m(l)\u001b[0m\n\u001b[0;32m      2\u001b[0m \u001b[39mfor\u001b[39;00m i,j \u001b[39min\u001b[39;00m \u001b[39menumerate\u001b[39m(l):\n\u001b[0;32m      3\u001b[0m     \u001b[39mif\u001b[39;00m \u001b[39mtype\u001b[39m(j) \u001b[39m!=\u001b[39m \u001b[39mint\u001b[39m:\n\u001b[1;32m----> 4\u001b[0m         \u001b[39mraise\u001b[39;00m \u001b[39mTypeError\u001b[39;00m(\u001b[39m\"\u001b[39m\u001b[39mListado de números enteros\u001b[39m\u001b[39m\"\u001b[39m, \u001b[39m\"\u001b[39m\u001b[39men la posición:\u001b[39m\u001b[39m\"\u001b[39m, i, \u001b[39m\"\u001b[39m\u001b[39mel elemento\u001b[39m\u001b[39m\"\u001b[39m, j, \u001b[39m\"\u001b[39m\u001b[39mno es un entero\u001b[39m\u001b[39m\"\u001b[39m)\n\u001b[0;32m      6\u001b[0m \u001b[39mreturn\u001b[39;00m \u001b[39m'\u001b[39m\u001b[39mListado Valido\u001b[39m\u001b[39m'\u001b[39m\n",
      "\u001b[1;31mTypeError\u001b[0m: ('Listado de números enteros', 'en la posición:', 6, 'el elemento', 4.2, 'no es un entero')"
     ]
    }
   ],
   "source": [
    "l = [2,7,4,3,4,3,4.2,3,7,6,4,4,6,2,4,1,6,5,4,7,3,3,3,0,-4,-5,-1]\n",
    "test_enteros(l)"
   ]
  }
 ],
 "metadata": {
  "kernelspec": {
   "display_name": "Python 3",
   "language": "python",
   "name": "python3"
  },
  "language_info": {
   "codemirror_mode": {
    "name": "ipython",
    "version": 3
   },
   "file_extension": ".py",
   "mimetype": "text/x-python",
   "name": "python",
   "nbconvert_exporter": "python",
   "pygments_lexer": "ipython3",
   "version": "3.11.5"
  },
  "orig_nbformat": 4
 },
 "nbformat": 4,
 "nbformat_minor": 2
}
