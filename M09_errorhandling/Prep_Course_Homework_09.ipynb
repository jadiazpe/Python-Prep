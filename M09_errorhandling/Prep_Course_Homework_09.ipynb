{
 "cells": [
  {
   "attachments": {},
   "cell_type": "markdown",
   "metadata": {},
   "source": [
    "## Manejo de errores"
   ]
  },
  {
   "attachments": {},
   "cell_type": "markdown",
   "metadata": {},
   "source": [
    "1) Con la clase creada en el módulo 7, tener en cuenta diferentes casos en que el código pudiera arrojar error. Por ejemplo, en la creación del objeto recibimos una lista de números enteros pero ¿qué pasa si se envía otro tipo de dato?"
   ]
  },
  {
   "cell_type": "code",
   "execution_count": 1,
   "metadata": {},
   "outputs": [],
   "source": [
    "import operatividad1 as op"
   ]
  },
  {
   "cell_type": "code",
   "execution_count": 2,
   "metadata": {},
   "outputs": [
    {
     "data": {
      "text/plain": [
       "operatividad1.Operatividad"
      ]
     },
     "execution_count": 2,
     "metadata": {},
     "output_type": "execute_result"
    }
   ],
   "source": [
    "opera3 = op.Operatividad([\"Jairo\"])\n",
    "type(opera3)"
   ]
  },
  {
   "cell_type": "code",
   "execution_count": 3,
   "metadata": {},
   "outputs": [
    {
     "ename": "TypeError",
     "evalue": "('Exclusivamente números enteros, en la posición:', 0, 'el elemento', 'Jairo', 'no es un entero')",
     "output_type": "error",
     "traceback": [
      "\u001b[1;31m---------------------------------------------------------------------------\u001b[0m",
      "\u001b[1;31mTypeError\u001b[0m                                 Traceback (most recent call last)",
      "Cell \u001b[1;32mIn[3], line 1\u001b[0m\n\u001b[1;32m----> 1\u001b[0m opera3\u001b[39m.\u001b[39;49mprimo_listado()\n",
      "File \u001b[1;32mc:\\DATA_SCIENCE\\PREP_REPOSITORY\\Python-Prep\\M09_errorhandling\\operatividad1.py:12\u001b[0m, in \u001b[0;36mOperatividad.primo_listado\u001b[1;34m(self)\u001b[0m\n\u001b[0;32m     11\u001b[0m \u001b[39mdef\u001b[39;00m \u001b[39mprimo_listado\u001b[39m(\u001b[39mself\u001b[39m):\n\u001b[1;32m---> 12\u001b[0m     \u001b[39mself\u001b[39;49m\u001b[39m.\u001b[39;49merrores_ent(\u001b[39mself\u001b[39;49m\u001b[39m.\u001b[39;49mlistado)\n\u001b[0;32m     13\u001b[0m     \u001b[39mfor\u001b[39;00m i,j \u001b[39min\u001b[39;00m \u001b[39menumerate\u001b[39m(\u001b[39mself\u001b[39m\u001b[39m.\u001b[39mlistado):\n\u001b[0;32m     14\u001b[0m         \u001b[39mif\u001b[39;00m (\u001b[39mself\u001b[39m\u001b[39m.\u001b[39mprimo(j)) \u001b[39m==\u001b[39m \u001b[39mTrue\u001b[39;00m:\n",
      "File \u001b[1;32mc:\\DATA_SCIENCE\\PREP_REPOSITORY\\Python-Prep\\M09_errorhandling\\operatividad1.py:44\u001b[0m, in \u001b[0;36mOperatividad.errores_ent\u001b[1;34m(self, lst)\u001b[0m\n\u001b[0;32m     42\u001b[0m \u001b[39mfor\u001b[39;00m i,j \u001b[39min\u001b[39;00m \u001b[39menumerate\u001b[39m(lst):\n\u001b[0;32m     43\u001b[0m     \u001b[39mif\u001b[39;00m \u001b[39mtype\u001b[39m(j) \u001b[39m!=\u001b[39m \u001b[39mint\u001b[39m:\n\u001b[1;32m---> 44\u001b[0m         \u001b[39mraise\u001b[39;00m \u001b[39mTypeError\u001b[39;00m(\u001b[39m\"\u001b[39m\u001b[39mExclusivamente números enteros, en la posición:\u001b[39m\u001b[39m\"\u001b[39m, i, \u001b[39m\"\u001b[39m\u001b[39mel elemento\u001b[39m\u001b[39m\"\u001b[39m, j, \u001b[39m\"\u001b[39m\u001b[39mno es un entero\u001b[39m\u001b[39m\"\u001b[39m)\n\u001b[0;32m     45\u001b[0m \u001b[39mreturn\u001b[39;00m \u001b[39mNone\u001b[39;00m\n",
      "\u001b[1;31mTypeError\u001b[0m: ('Exclusivamente números enteros, en la posición:', 0, 'el elemento', 'Jairo', 'no es un entero')"
     ]
    }
   ],
   "source": [
    "opera3.primo_listado()"
   ]
  },
  {
   "cell_type": "code",
   "execution_count": 4,
   "metadata": {},
   "outputs": [
    {
     "ename": "TypeError",
     "evalue": "('Exclusivamente números enteros, en la posición:', 0, 'el elemento', 'Jairo', 'es un string')",
     "output_type": "error",
     "traceback": [
      "\u001b[1;31m---------------------------------------------------------------------------\u001b[0m",
      "\u001b[1;31mTypeError\u001b[0m                                 Traceback (most recent call last)",
      "Cell \u001b[1;32mIn[4], line 1\u001b[0m\n\u001b[1;32m----> 1\u001b[0m opera3\u001b[39m.\u001b[39;49mocurrencia_listado()\n",
      "File \u001b[1;32mc:\\DATA_SCIENCE\\PREP_REPOSITORY\\Python-Prep\\M09_errorhandling\\operatividad1.py:22\u001b[0m, in \u001b[0;36mOperatividad.ocurrencia_listado\u001b[1;34m(self)\u001b[0m\n\u001b[0;32m     21\u001b[0m \u001b[39mdef\u001b[39;00m \u001b[39mocurrencia_listado\u001b[39m(\u001b[39mself\u001b[39m):\n\u001b[1;32m---> 22\u001b[0m     \u001b[39mself\u001b[39;49m\u001b[39m.\u001b[39;49merrores_str(\u001b[39mself\u001b[39;49m\u001b[39m.\u001b[39;49mlistado)\n\u001b[0;32m     23\u001b[0m     lst \u001b[39m=\u001b[39m \u001b[39mself\u001b[39m\u001b[39m.\u001b[39mlistado\n\u001b[0;32m     24\u001b[0m     \u001b[39mprint\u001b[39m(\u001b[39m\"\u001b[39m\u001b[39mEl número más repetido en la lista es el primero de la tupla. El segundo número es su frecuencia:\u001b[39m\u001b[39m\"\u001b[39m, \u001b[39mself\u001b[39m\u001b[39m.\u001b[39mocurrencia(lst))\n",
      "File \u001b[1;32mc:\\DATA_SCIENCE\\PREP_REPOSITORY\\Python-Prep\\M09_errorhandling\\operatividad1.py:50\u001b[0m, in \u001b[0;36mOperatividad.errores_str\u001b[1;34m(self, lst)\u001b[0m\n\u001b[0;32m     48\u001b[0m \u001b[39mfor\u001b[39;00m i,j \u001b[39min\u001b[39;00m \u001b[39menumerate\u001b[39m(lst):\n\u001b[0;32m     49\u001b[0m     \u001b[39mif\u001b[39;00m \u001b[39mtype\u001b[39m(j) \u001b[39m==\u001b[39m \u001b[39mstr\u001b[39m:\n\u001b[1;32m---> 50\u001b[0m         \u001b[39mraise\u001b[39;00m \u001b[39mTypeError\u001b[39;00m(\u001b[39m\"\u001b[39m\u001b[39mExclusivamente números enteros, en la posición:\u001b[39m\u001b[39m\"\u001b[39m, i, \u001b[39m\"\u001b[39m\u001b[39mel elemento\u001b[39m\u001b[39m\"\u001b[39m, j, \u001b[39m\"\u001b[39m\u001b[39mes un string\u001b[39m\u001b[39m\"\u001b[39m)\n\u001b[0;32m     51\u001b[0m \u001b[39mreturn\u001b[39;00m \u001b[39mNone\u001b[39;00m\n",
      "\u001b[1;31mTypeError\u001b[0m: ('Exclusivamente números enteros, en la posición:', 0, 'el elemento', 'Jairo', 'es un string')"
     ]
    }
   ],
   "source": [
    "opera3.ocurrencia_listado()"
   ]
  },
  {
   "cell_type": "code",
   "execution_count": 5,
   "metadata": {},
   "outputs": [
    {
     "ename": "TypeError",
     "evalue": "('Exclusivamente números enteros, en la posición:', 0, 'el elemento', 'Jairo', 'no es un entero')",
     "output_type": "error",
     "traceback": [
      "\u001b[1;31m---------------------------------------------------------------------------\u001b[0m",
      "\u001b[1;31mTypeError\u001b[0m                                 Traceback (most recent call last)",
      "Cell \u001b[1;32mIn[5], line 1\u001b[0m\n\u001b[1;32m----> 1\u001b[0m opera3\u001b[39m.\u001b[39;49mfactorial_listado()\n",
      "File \u001b[1;32mc:\\DATA_SCIENCE\\PREP_REPOSITORY\\Python-Prep\\M09_errorhandling\\operatividad1.py:35\u001b[0m, in \u001b[0;36mOperatividad.factorial_listado\u001b[1;34m(self)\u001b[0m\n\u001b[0;32m     34\u001b[0m \u001b[39mdef\u001b[39;00m \u001b[39mfactorial_listado\u001b[39m(\u001b[39mself\u001b[39m):\n\u001b[1;32m---> 35\u001b[0m     \u001b[39mself\u001b[39;49m\u001b[39m.\u001b[39;49merrores_ent(\u001b[39mself\u001b[39;49m\u001b[39m.\u001b[39;49mlistado)\n\u001b[0;32m     36\u001b[0m     \u001b[39mfor\u001b[39;00m n \u001b[39min\u001b[39;00m (\u001b[39mself\u001b[39m\u001b[39m.\u001b[39mlistado):\n\u001b[0;32m     37\u001b[0m         \u001b[39mprint\u001b[39m (\u001b[39m\"\u001b[39m\u001b[39mEl cálculo factorial para el número\u001b[39m\u001b[39m\"\u001b[39m, n, \u001b[39m\"\u001b[39m\u001b[39mde la lista es igual a: \u001b[39m\u001b[39m\"\u001b[39m, \u001b[39mself\u001b[39m\u001b[39m.\u001b[39mfactorial(n))\n",
      "File \u001b[1;32mc:\\DATA_SCIENCE\\PREP_REPOSITORY\\Python-Prep\\M09_errorhandling\\operatividad1.py:44\u001b[0m, in \u001b[0;36mOperatividad.errores_ent\u001b[1;34m(self, lst)\u001b[0m\n\u001b[0;32m     42\u001b[0m \u001b[39mfor\u001b[39;00m i,j \u001b[39min\u001b[39;00m \u001b[39menumerate\u001b[39m(lst):\n\u001b[0;32m     43\u001b[0m     \u001b[39mif\u001b[39;00m \u001b[39mtype\u001b[39m(j) \u001b[39m!=\u001b[39m \u001b[39mint\u001b[39m:\n\u001b[1;32m---> 44\u001b[0m         \u001b[39mraise\u001b[39;00m \u001b[39mTypeError\u001b[39;00m(\u001b[39m\"\u001b[39m\u001b[39mExclusivamente números enteros, en la posición:\u001b[39m\u001b[39m\"\u001b[39m, i, \u001b[39m\"\u001b[39m\u001b[39mel elemento\u001b[39m\u001b[39m\"\u001b[39m, j, \u001b[39m\"\u001b[39m\u001b[39mno es un entero\u001b[39m\u001b[39m\"\u001b[39m)\n\u001b[0;32m     45\u001b[0m \u001b[39mreturn\u001b[39;00m \u001b[39mNone\u001b[39;00m\n",
      "\u001b[1;31mTypeError\u001b[0m: ('Exclusivamente números enteros, en la posición:', 0, 'el elemento', 'Jairo', 'no es un entero')"
     ]
    }
   ],
   "source": [
    "opera3.factorial_listado()"
   ]
  },
  {
   "cell_type": "code",
   "execution_count": 6,
   "metadata": {},
   "outputs": [
    {
     "ename": "TypeError",
     "evalue": "('Exclusivamente números enteros, en la posición:', 0, 'el elemento', 'Jairo', 'es un string')",
     "output_type": "error",
     "traceback": [
      "\u001b[1;31m---------------------------------------------------------------------------\u001b[0m",
      "\u001b[1;31mTypeError\u001b[0m                                 Traceback (most recent call last)",
      "Cell \u001b[1;32mIn[6], line 1\u001b[0m\n\u001b[1;32m----> 1\u001b[0m opera3\u001b[39m.\u001b[39;49mtemperatura_listado(\u001b[39m\"\u001b[39;49m\u001b[39mFarenheit\u001b[39;49m\u001b[39m\"\u001b[39;49m, \u001b[39m\"\u001b[39;49m\u001b[39mKelvin\u001b[39;49m\u001b[39m\"\u001b[39;49m)\n",
      "File \u001b[1;32mc:\\DATA_SCIENCE\\PREP_REPOSITORY\\Python-Prep\\M09_errorhandling\\operatividad1.py:29\u001b[0m, in \u001b[0;36mOperatividad.temperatura_listado\u001b[1;34m(self, ent_med, sal_med)\u001b[0m\n\u001b[0;32m     27\u001b[0m \u001b[39mself\u001b[39m\u001b[39m.\u001b[39ment_med \u001b[39m=\u001b[39m ent_med\n\u001b[0;32m     28\u001b[0m \u001b[39mself\u001b[39m\u001b[39m.\u001b[39msal_med \u001b[39m=\u001b[39m sal_med\n\u001b[1;32m---> 29\u001b[0m \u001b[39mself\u001b[39;49m\u001b[39m.\u001b[39;49merrores_str(\u001b[39mself\u001b[39;49m\u001b[39m.\u001b[39;49mlistado)\n\u001b[0;32m     30\u001b[0m \u001b[39mself\u001b[39m\u001b[39m.\u001b[39merrores_grados(\u001b[39mself\u001b[39m\u001b[39m.\u001b[39ment_med, \u001b[39mself\u001b[39m\u001b[39m.\u001b[39msal_med)\n\u001b[0;32m     31\u001b[0m \u001b[39mfor\u001b[39;00m i \u001b[39min\u001b[39;00m (\u001b[39mself\u001b[39m\u001b[39m.\u001b[39mlistado):\n",
      "File \u001b[1;32mc:\\DATA_SCIENCE\\PREP_REPOSITORY\\Python-Prep\\M09_errorhandling\\operatividad1.py:50\u001b[0m, in \u001b[0;36mOperatividad.errores_str\u001b[1;34m(self, lst)\u001b[0m\n\u001b[0;32m     48\u001b[0m \u001b[39mfor\u001b[39;00m i,j \u001b[39min\u001b[39;00m \u001b[39menumerate\u001b[39m(lst):\n\u001b[0;32m     49\u001b[0m     \u001b[39mif\u001b[39;00m \u001b[39mtype\u001b[39m(j) \u001b[39m==\u001b[39m \u001b[39mstr\u001b[39m:\n\u001b[1;32m---> 50\u001b[0m         \u001b[39mraise\u001b[39;00m \u001b[39mTypeError\u001b[39;00m(\u001b[39m\"\u001b[39m\u001b[39mExclusivamente números enteros, en la posición:\u001b[39m\u001b[39m\"\u001b[39m, i, \u001b[39m\"\u001b[39m\u001b[39mel elemento\u001b[39m\u001b[39m\"\u001b[39m, j, \u001b[39m\"\u001b[39m\u001b[39mes un string\u001b[39m\u001b[39m\"\u001b[39m)\n\u001b[0;32m     51\u001b[0m \u001b[39mreturn\u001b[39;00m \u001b[39mNone\u001b[39;00m\n",
      "\u001b[1;31mTypeError\u001b[0m: ('Exclusivamente números enteros, en la posición:', 0, 'el elemento', 'Jairo', 'es un string')"
     ]
    }
   ],
   "source": [
    "opera3.temperatura_listado(\"Farenheit\", \"Kelvin\")"
   ]
  },
  {
   "attachments": {},
   "cell_type": "markdown",
   "metadata": {},
   "source": [
    "2) En la función que hace la conversión de grados, validar que los parámetros enviados sean los esperados, de no serlo, informar cuáles son los valores esperados."
   ]
  },
  {
   "cell_type": "code",
   "execution_count": null,
   "metadata": {},
   "outputs": [],
   "source": [
    "opera3.temperatura_listado(\"Kelvin\", \"Celsiu\")"
   ]
  },
  {
   "attachments": {},
   "cell_type": "markdown",
   "metadata": {},
   "source": [
    "3) Importar el modulo \"unittest\" y crear los siguientes casos de pruebas sobre la clase utilizada en el punto 2<br>\n",
    "Creacion del objeto incorrecta<br>\n",
    "Creacion correcta del objeto<br>\n",
    "Metodo valor_modal()<br>\n",
    "\n",
    "Se puede usar \"raise ValueError()\" en la creación de la clase para verificar el error. Investigar sobre esta funcionalidad."
   ]
  },
  {
   "cell_type": "code",
   "execution_count": null,
   "metadata": {},
   "outputs": [],
   "source": [
    "import unittest"
   ]
  },
  {
   "cell_type": "code",
   "execution_count": null,
   "metadata": {},
   "outputs": [],
   "source": [
    "class PruebaOperatividad(unittest.TestCase):\n",
    "    \n",
    "    def test_crear_listado(self):\n",
    "        parametro = (54,34)\n",
    "        self.assertRaises(ValueError, op.Operatividad, parametro)\n",
    "        #self.failUnlessRaises(ValueError, h.Herramientas, param)\n",
    "\n",
    "    def test_lista_listado(self):\n",
    "        parametro = [1,2,2,5]\n",
    "        opera3 = op.Operatividad(parametro)\n",
    "        self.assertEqual(opera3.lista, parametro)\n",
    "\n",
    "    def test_valor_modal(self):\n",
    "        lis = [1,2,1,3]\n",
    "        opera3 = op.Operatividad(lis)\n",
    "        moda, veces = opera3.valor_modal(False)\n",
    "        moda = [moda]\n",
    "        moda.append(veces)\n",
    "        resultado = [1, 2]\n",
    "        self.assertEqual(moda, resultado)"
   ]
  },
  {
   "cell_type": "code",
   "execution_count": null,
   "metadata": {},
   "outputs": [],
   "source": [
    "unittest.main(argv=[''], verbosity=2, exit=False)"
   ]
  },
  {
   "attachments": {},
   "cell_type": "markdown",
   "metadata": {},
   "source": [
    "4) Probar una creación incorrecta y visualizar la salida del \"raise\""
   ]
  },
  {
   "cell_type": "code",
   "execution_count": null,
   "metadata": {},
   "outputs": [],
   "source": []
  },
  {
   "attachments": {},
   "cell_type": "markdown",
   "metadata": {},
   "source": [
    "6) Agregar casos de pruebas para el método verifica_primos() realizando el cambio en la clase, para que devuelva una lista de True o False en función de que el elemento en la posisicón sea o no primo"
   ]
  },
  {
   "cell_type": "code",
   "execution_count": null,
   "metadata": {},
   "outputs": [],
   "source": []
  },
  {
   "attachments": {},
   "cell_type": "markdown",
   "metadata": {},
   "source": [
    "7) Agregar casos de pruebas para el método conversion_grados()"
   ]
  },
  {
   "cell_type": "code",
   "execution_count": null,
   "metadata": {},
   "outputs": [],
   "source": []
  },
  {
   "attachments": {},
   "cell_type": "markdown",
   "metadata": {},
   "source": [
    "8) Agregar casos de pruebas para el método factorial()"
   ]
  },
  {
   "cell_type": "code",
   "execution_count": null,
   "metadata": {},
   "outputs": [],
   "source": []
  }
 ],
 "metadata": {
  "interpreter": {
   "hash": "c85384e4cb51c8b72350f3a8712cc8351fdc3955e32a27f9b60c6242ab125f01"
  },
  "kernelspec": {
   "display_name": "Python 3 (ipykernel)",
   "language": "python",
   "name": "python3"
  },
  "language_info": {
   "codemirror_mode": {
    "name": "ipython",
    "version": 3
   },
   "file_extension": ".py",
   "mimetype": "text/x-python",
   "name": "python",
   "nbconvert_exporter": "python",
   "pygments_lexer": "ipython3",
   "version": "3.11.5"
  }
 },
 "nbformat": 4,
 "nbformat_minor": 4
}
